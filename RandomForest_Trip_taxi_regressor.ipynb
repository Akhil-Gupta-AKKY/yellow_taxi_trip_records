{
 "cells": [
  {
   "cell_type": "code",
   "execution_count": 78,
   "id": "288b9894",
   "metadata": {},
   "outputs": [],
   "source": [
    "import os \n",
    "import pandas as pd\n",
    "import numpy as np\n",
    "import matplotlib.pyplot as plt\n",
    "import seaborn as sns"
   ]
  },
  {
   "cell_type": "code",
   "execution_count": 79,
   "id": "6a3320bb",
   "metadata": {},
   "outputs": [],
   "source": [
    "os.chdir(r\"D:\\Training\\Imarticus\\PGA\\PGA27\\ML\\Tree\")"
   ]
  },
  {
   "cell_type": "code",
   "execution_count": 80,
   "id": "ac7bd111",
   "metadata": {},
   "outputs": [
    {
     "data": {
      "text/plain": [
       "['bank.xlsx',\n",
       " 'data_dictionary_trip_records_yellow.pdf',\n",
       " 'Treebased_algo-Copy1.ipynb',\n",
       " 'yellow_tripdata_2022-09.parquet']"
      ]
     },
     "execution_count": 80,
     "metadata": {},
     "output_type": "execute_result"
    }
   ],
   "source": [
    "os.listdir()"
   ]
  },
  {
   "cell_type": "code",
   "execution_count": 81,
   "id": "a3fae401",
   "metadata": {},
   "outputs": [],
   "source": [
    "df0=pd.read_parquet(\"yellow_tripdata_2022-09.parquet\")"
   ]
  },
  {
   "cell_type": "code",
   "execution_count": 82,
   "id": "decc2fa6",
   "metadata": {},
   "outputs": [],
   "source": [
    "df=df0.sample(50000, random_state=0)"
   ]
  },
  {
   "cell_type": "code",
   "execution_count": 83,
   "id": "d30a353b",
   "metadata": {},
   "outputs": [
    {
     "data": {
      "text/html": [
       "<div>\n",
       "<style scoped>\n",
       "    .dataframe tbody tr th:only-of-type {\n",
       "        vertical-align: middle;\n",
       "    }\n",
       "\n",
       "    .dataframe tbody tr th {\n",
       "        vertical-align: top;\n",
       "    }\n",
       "\n",
       "    .dataframe thead th {\n",
       "        text-align: right;\n",
       "    }\n",
       "</style>\n",
       "<table border=\"1\" class=\"dataframe\">\n",
       "  <thead>\n",
       "    <tr style=\"text-align: right;\">\n",
       "      <th></th>\n",
       "      <th>VendorID</th>\n",
       "      <th>tpep_pickup_datetime</th>\n",
       "      <th>tpep_dropoff_datetime</th>\n",
       "      <th>passenger_count</th>\n",
       "      <th>trip_distance</th>\n",
       "      <th>RatecodeID</th>\n",
       "      <th>store_and_fwd_flag</th>\n",
       "      <th>PULocationID</th>\n",
       "      <th>DOLocationID</th>\n",
       "      <th>payment_type</th>\n",
       "      <th>fare_amount</th>\n",
       "      <th>extra</th>\n",
       "      <th>mta_tax</th>\n",
       "      <th>tip_amount</th>\n",
       "      <th>tolls_amount</th>\n",
       "      <th>improvement_surcharge</th>\n",
       "      <th>total_amount</th>\n",
       "      <th>congestion_surcharge</th>\n",
       "      <th>airport_fee</th>\n",
       "    </tr>\n",
       "  </thead>\n",
       "  <tbody>\n",
       "    <tr>\n",
       "      <th>1895567</th>\n",
       "      <td>1</td>\n",
       "      <td>2022-09-20 10:08:19</td>\n",
       "      <td>2022-09-20 10:32:24</td>\n",
       "      <td>1.00000</td>\n",
       "      <td>3.30000</td>\n",
       "      <td>99.00000</td>\n",
       "      <td>N</td>\n",
       "      <td>25</td>\n",
       "      <td>62</td>\n",
       "      <td>1</td>\n",
       "      <td>17.20000</td>\n",
       "      <td>0.00000</td>\n",
       "      <td>0.50000</td>\n",
       "      <td>0.00000</td>\n",
       "      <td>0.00000</td>\n",
       "      <td>0.30000</td>\n",
       "      <td>18.00000</td>\n",
       "      <td>0.00000</td>\n",
       "      <td>0.00000</td>\n",
       "    </tr>\n",
       "    <tr>\n",
       "      <th>2729396</th>\n",
       "      <td>2</td>\n",
       "      <td>2022-09-28 10:26:30</td>\n",
       "      <td>2022-09-28 11:06:53</td>\n",
       "      <td>1.00000</td>\n",
       "      <td>11.78000</td>\n",
       "      <td>1.00000</td>\n",
       "      <td>N</td>\n",
       "      <td>132</td>\n",
       "      <td>17</td>\n",
       "      <td>1</td>\n",
       "      <td>38.50000</td>\n",
       "      <td>0.00000</td>\n",
       "      <td>0.50000</td>\n",
       "      <td>7.86000</td>\n",
       "      <td>0.00000</td>\n",
       "      <td>0.30000</td>\n",
       "      <td>48.41000</td>\n",
       "      <td>0.00000</td>\n",
       "      <td>1.25000</td>\n",
       "    </tr>\n",
       "    <tr>\n",
       "      <th>2800893</th>\n",
       "      <td>2</td>\n",
       "      <td>2022-09-28 20:08:54</td>\n",
       "      <td>2022-09-28 20:20:53</td>\n",
       "      <td>1.00000</td>\n",
       "      <td>1.96000</td>\n",
       "      <td>1.00000</td>\n",
       "      <td>N</td>\n",
       "      <td>161</td>\n",
       "      <td>68</td>\n",
       "      <td>1</td>\n",
       "      <td>9.50000</td>\n",
       "      <td>1.00000</td>\n",
       "      <td>0.50000</td>\n",
       "      <td>2.76000</td>\n",
       "      <td>0.00000</td>\n",
       "      <td>0.30000</td>\n",
       "      <td>16.56000</td>\n",
       "      <td>2.50000</td>\n",
       "      <td>0.00000</td>\n",
       "    </tr>\n",
       "    <tr>\n",
       "      <th>903727</th>\n",
       "      <td>2</td>\n",
       "      <td>2022-09-09 21:21:02</td>\n",
       "      <td>2022-09-09 21:29:52</td>\n",
       "      <td>1.00000</td>\n",
       "      <td>1.89000</td>\n",
       "      <td>1.00000</td>\n",
       "      <td>N</td>\n",
       "      <td>263</td>\n",
       "      <td>162</td>\n",
       "      <td>1</td>\n",
       "      <td>8.50000</td>\n",
       "      <td>0.50000</td>\n",
       "      <td>0.50000</td>\n",
       "      <td>1.00000</td>\n",
       "      <td>0.00000</td>\n",
       "      <td>0.30000</td>\n",
       "      <td>13.30000</td>\n",
       "      <td>2.50000</td>\n",
       "      <td>0.00000</td>\n",
       "    </tr>\n",
       "    <tr>\n",
       "      <th>730612</th>\n",
       "      <td>2</td>\n",
       "      <td>2022-09-08 14:19:05</td>\n",
       "      <td>2022-09-08 14:35:21</td>\n",
       "      <td>1.00000</td>\n",
       "      <td>2.17000</td>\n",
       "      <td>1.00000</td>\n",
       "      <td>N</td>\n",
       "      <td>236</td>\n",
       "      <td>229</td>\n",
       "      <td>1</td>\n",
       "      <td>11.50000</td>\n",
       "      <td>0.00000</td>\n",
       "      <td>0.50000</td>\n",
       "      <td>3.70000</td>\n",
       "      <td>0.00000</td>\n",
       "      <td>0.30000</td>\n",
       "      <td>18.50000</td>\n",
       "      <td>2.50000</td>\n",
       "      <td>0.00000</td>\n",
       "    </tr>\n",
       "  </tbody>\n",
       "</table>\n",
       "</div>"
      ],
      "text/plain": [
       "         VendorID tpep_pickup_datetime tpep_dropoff_datetime  passenger_count  \\\n",
       "1895567         1  2022-09-20 10:08:19   2022-09-20 10:32:24          1.00000   \n",
       "2729396         2  2022-09-28 10:26:30   2022-09-28 11:06:53          1.00000   \n",
       "2800893         2  2022-09-28 20:08:54   2022-09-28 20:20:53          1.00000   \n",
       "903727          2  2022-09-09 21:21:02   2022-09-09 21:29:52          1.00000   \n",
       "730612          2  2022-09-08 14:19:05   2022-09-08 14:35:21          1.00000   \n",
       "\n",
       "         trip_distance  RatecodeID store_and_fwd_flag  PULocationID  \\\n",
       "1895567        3.30000    99.00000                  N            25   \n",
       "2729396       11.78000     1.00000                  N           132   \n",
       "2800893        1.96000     1.00000                  N           161   \n",
       "903727         1.89000     1.00000                  N           263   \n",
       "730612         2.17000     1.00000                  N           236   \n",
       "\n",
       "         DOLocationID  payment_type  fare_amount   extra  mta_tax  tip_amount  \\\n",
       "1895567            62             1     17.20000 0.00000  0.50000     0.00000   \n",
       "2729396            17             1     38.50000 0.00000  0.50000     7.86000   \n",
       "2800893            68             1      9.50000 1.00000  0.50000     2.76000   \n",
       "903727            162             1      8.50000 0.50000  0.50000     1.00000   \n",
       "730612            229             1     11.50000 0.00000  0.50000     3.70000   \n",
       "\n",
       "         tolls_amount  improvement_surcharge  total_amount  \\\n",
       "1895567       0.00000                0.30000      18.00000   \n",
       "2729396       0.00000                0.30000      48.41000   \n",
       "2800893       0.00000                0.30000      16.56000   \n",
       "903727        0.00000                0.30000      13.30000   \n",
       "730612        0.00000                0.30000      18.50000   \n",
       "\n",
       "         congestion_surcharge  airport_fee  \n",
       "1895567               0.00000      0.00000  \n",
       "2729396               0.00000      1.25000  \n",
       "2800893               2.50000      0.00000  \n",
       "903727                2.50000      0.00000  \n",
       "730612                2.50000      0.00000  "
      ]
     },
     "execution_count": 83,
     "metadata": {},
     "output_type": "execute_result"
    }
   ],
   "source": [
    "df.head()"
   ]
  },
  {
   "cell_type": "code",
   "execution_count": 84,
   "id": "f3cb8353",
   "metadata": {},
   "outputs": [
    {
     "data": {
      "text/plain": [
       "(50000, 19)"
      ]
     },
     "execution_count": 84,
     "metadata": {},
     "output_type": "execute_result"
    }
   ],
   "source": [
    "df.shape"
   ]
  },
  {
   "cell_type": "code",
   "execution_count": 85,
   "id": "a8931a62",
   "metadata": {},
   "outputs": [
    {
     "data": {
      "text/plain": [
       "VendorID                    0\n",
       "tpep_pickup_datetime        0\n",
       "tpep_dropoff_datetime       0\n",
       "passenger_count          1789\n",
       "trip_distance               0\n",
       "RatecodeID               1789\n",
       "store_and_fwd_flag       1789\n",
       "PULocationID                0\n",
       "DOLocationID                0\n",
       "payment_type                0\n",
       "fare_amount                 0\n",
       "extra                       0\n",
       "mta_tax                     0\n",
       "tip_amount                  0\n",
       "tolls_amount                0\n",
       "improvement_surcharge       0\n",
       "total_amount                0\n",
       "congestion_surcharge     1789\n",
       "airport_fee              1789\n",
       "dtype: int64"
      ]
     },
     "execution_count": 85,
     "metadata": {},
     "output_type": "execute_result"
    }
   ],
   "source": [
    "df.isnull().sum()"
   ]
  },
  {
   "cell_type": "code",
   "execution_count": 86,
   "id": "2f0f04cf",
   "metadata": {},
   "outputs": [],
   "source": [
    "df.dropna(inplace=True)"
   ]
  },
  {
   "cell_type": "code",
   "execution_count": 87,
   "id": "f90a7832",
   "metadata": {},
   "outputs": [
    {
     "data": {
      "text/plain": [
       "VendorID                 0\n",
       "tpep_pickup_datetime     0\n",
       "tpep_dropoff_datetime    0\n",
       "passenger_count          0\n",
       "trip_distance            0\n",
       "RatecodeID               0\n",
       "store_and_fwd_flag       0\n",
       "PULocationID             0\n",
       "DOLocationID             0\n",
       "payment_type             0\n",
       "fare_amount              0\n",
       "extra                    0\n",
       "mta_tax                  0\n",
       "tip_amount               0\n",
       "tolls_amount             0\n",
       "improvement_surcharge    0\n",
       "total_amount             0\n",
       "congestion_surcharge     0\n",
       "airport_fee              0\n",
       "dtype: int64"
      ]
     },
     "execution_count": 87,
     "metadata": {},
     "output_type": "execute_result"
    }
   ],
   "source": [
    "df.isnull().sum()"
   ]
  },
  {
   "cell_type": "markdown",
   "id": "449276bd",
   "metadata": {},
   "source": [
    "## EDA "
   ]
  },
  {
   "cell_type": "markdown",
   "id": "25f5eea4",
   "metadata": {},
   "source": [
    "### 1. Univariate "
   ]
  },
  {
   "cell_type": "code",
   "execution_count": 88,
   "id": "9899c42b",
   "metadata": {},
   "outputs": [
    {
     "data": {
      "text/plain": [
       "VendorID                          int64\n",
       "tpep_pickup_datetime     datetime64[ns]\n",
       "tpep_dropoff_datetime    datetime64[ns]\n",
       "passenger_count                 float64\n",
       "trip_distance                   float64\n",
       "RatecodeID                      float64\n",
       "store_and_fwd_flag               object\n",
       "PULocationID                      int64\n",
       "DOLocationID                      int64\n",
       "payment_type                      int64\n",
       "fare_amount                     float64\n",
       "extra                           float64\n",
       "mta_tax                         float64\n",
       "tip_amount                      float64\n",
       "tolls_amount                    float64\n",
       "improvement_surcharge           float64\n",
       "total_amount                    float64\n",
       "congestion_surcharge            float64\n",
       "airport_fee                     float64\n",
       "dtype: object"
      ]
     },
     "execution_count": 88,
     "metadata": {},
     "output_type": "execute_result"
    }
   ],
   "source": [
    "df.dtypes"
   ]
  },
  {
   "cell_type": "code",
   "execution_count": 89,
   "id": "20b5f9bc",
   "metadata": {},
   "outputs": [],
   "source": [
    "def univariate_cat(data, x):\n",
    "    missing=data[x].isnull().sum()\n",
    "    unique_cnt=data[x].nunique()\n",
    "    unique_cat=list(data[x].unique())\n",
    "    f1=pd.DataFrame(data[x].value_counts())\n",
    "    f1.rename(columns={x:\"Count\"}, inplace=True)\n",
    "    f2=pd.DataFrame(data[x].value_counts(normalize=True))\n",
    "    f2.rename(columns={x:\"percentage\"}, inplace=True)\n",
    "    f2[\"percentage\"]=(f2[\"percentage\"]*100).round(2).astype(str)+\"%\"\n",
    "    ff=pd.concat([f1, f2], axis=1)\n",
    "    print(f\"Total missing values : {missing}\\n\")\n",
    "    print(f\"Total count of unique categories: {unique_cnt}\\n\")\n",
    "    print(f\"Unique categories :\\n{unique_cat}\")\n",
    "    print(f\"Value count and %\\n\", ff)\n",
    "    sns.countplot(data=data, x=x)\n",
    "    plt.show() "
   ]
  },
  {
   "cell_type": "code",
   "execution_count": 90,
   "id": "5dcafcba",
   "metadata": {},
   "outputs": [
    {
     "name": "stdout",
     "output_type": "stream",
     "text": [
      "Total missing values : 0\n",
      "\n",
      "Total count of unique categories: 2\n",
      "\n",
      "Unique categories :\n",
      "['N', 'Y']\n",
      "Value count and %\n",
      "    Count percentage\n",
      "N  47812     99.17%\n",
      "Y    399      0.83%\n"
     ]
    },
    {
     "data": {
      "image/png": "[encoded data removed]",
      "text/plain": [
       "<Figure size 432x288 with 1 Axes>"
      ]
     },
     "metadata": {
      "needs_background": "light"
     },
     "output_type": "display_data"
    }
   ],
   "source": [
    "univariate_cat(data=df, x=\"store_and_fwd_flag\")"
   ]
  },
  {
   "cell_type": "code",
   "execution_count": 91,
   "id": "bdb41d58",
   "metadata": {},
   "outputs": [
    {
     "name": "stdout",
     "output_type": "stream",
     "text": [
      "Total missing values : 0\n",
      "\n",
      "Total count of unique categories: 2\n",
      "\n",
      "Unique categories :\n",
      "[1, 2]\n",
      "Value count and %\n",
      "    Count percentage\n",
      "2  34414     71.38%\n",
      "1  13797     28.62%\n"
     ]
    },
    {
     "data": {
      "image/png": "[encoded data removed]",
      "text/plain": [
       "<Figure size 432x288 with 1 Axes>"
      ]
     },
     "metadata": {
      "needs_background": "light"
     },
     "output_type": "display_data"
    }
   ],
   "source": [
    "univariate_cat(data=df, x=\"VendorID\")"
   ]
  },
  {
   "cell_type": "code",
   "execution_count": 92,
   "id": "b9db1881",
   "metadata": {},
   "outputs": [],
   "source": [
    "df[\"VendorID\"]=df[\"VendorID\"].map({1:\"CMT\", 2:\"Verifone\"}) "
   ]
  },
  {
   "cell_type": "code",
   "execution_count": 93,
   "id": "7689ae3d",
   "metadata": {},
   "outputs": [
    {
     "name": "stdout",
     "output_type": "stream",
     "text": [
      "Total missing values : 0\n",
      "\n",
      "Total count of unique categories: 2\n",
      "\n",
      "Unique categories :\n",
      "['CMT', 'Verifone']\n",
      "Value count and %\n",
      "           Count percentage\n",
      "Verifone  34414     71.38%\n",
      "CMT       13797     28.62%\n"
     ]
    },
    {
     "data": {
      "image/png": "[encoded data removed]",
      "text/plain": [
       "<Figure size 432x288 with 1 Axes>"
      ]
     },
     "metadata": {
      "needs_background": "light"
     },
     "output_type": "display_data"
    }
   ],
   "source": [
    "univariate_cat(data=df, x=\"VendorID\")"
   ]
  },
  {
   "cell_type": "code",
   "execution_count": 94,
   "id": "25f92ba2",
   "metadata": {},
   "outputs": [
    {
     "name": "stdout",
     "output_type": "stream",
     "text": [
      "Total missing values : 0\n",
      "\n",
      "Total count of unique categories: 8\n",
      "\n",
      "Unique categories :\n",
      "[1.0, 2.0, 3.0, 0.0, 5.0, 6.0, 4.0, 7.0]\n",
      "Value count and %\n",
      "          Count percentage\n",
      "1.00000  35801     74.26%\n",
      "2.00000   7493     15.54%\n",
      "3.00000   1883      3.91%\n",
      "0.00000    909      1.89%\n",
      "4.00000    800      1.66%\n",
      "5.00000    793      1.64%\n",
      "6.00000    530       1.1%\n",
      "7.00000      2       0.0%\n"
     ]
    },
    {
     "data": {
      "image/png": "[encoded data removed]",
      "text/plain": [
       "<Figure size 432x288 with 1 Axes>"
      ]
     },
     "metadata": {
      "needs_background": "light"
     },
     "output_type": "display_data"
    }
   ],
   "source": [
    "univariate_cat(data=df, x=\"passenger_count\")"
   ]
  },
  {
   "cell_type": "code",
   "execution_count": 95,
   "id": "3d22f3b5",
   "metadata": {},
   "outputs": [],
   "source": [
    "# df[df[\"passenger_count\"]==0]"
   ]
  },
  {
   "cell_type": "code",
   "execution_count": 96,
   "id": "866365c3",
   "metadata": {},
   "outputs": [],
   "source": [
    " def univariate_num(data,x):\n",
    "    missing=data[x].isnull().sum()\n",
    "    min1=round(data[x].min(), 2)\n",
    "    max1=round(data[x].max(), 2)\n",
    "    mean=round(data[x].mean(), 2)\n",
    "    var=round(data[x].var(), 2)\n",
    "    std=round(data[x].std(),2)\n",
    "    range1=round(max1-min1, 2)\n",
    "    q1=round(data[x].quantile(.25), 2)\n",
    "    q2=round(data[x].quantile(.5),2)\n",
    "    q3=round(data[x].quantile(.75), 2)\n",
    "    skew=round(data[x].skew(), 2)\n",
    "    kurt=round(data[x].kurt(), 2)\n",
    "    myvalue={\"missing\":missing, \"min\":min1, \"max\":max1, \"mean\":mean,\n",
    "             \"var\":var,\"std\":std, \"range\":range1,\"q1\":q1, \"q2\":q2,\"q3\":q3,\n",
    "            \"skewness\":skew, \"kurtosis\":kurt}\n",
    "#     sns.histplot(data[x])\n",
    "#     plt.show()\n",
    "    sns.boxplot(data=data, y=data[x])\n",
    "    plt.show()\n",
    "    return myvalue"
   ]
  },
  {
   "cell_type": "code",
   "execution_count": 97,
   "id": "d5ef718a",
   "metadata": {},
   "outputs": [
    {
     "data": {
      "image/png": "[encoded data removed]",
      "text/plain": [
       "<Figure size 432x288 with 1 Axes>"
      ]
     },
     "metadata": {
      "needs_background": "light"
     },
     "output_type": "display_data"
    },
    {
     "data": {
      "text/plain": [
       "{'missing': 0,\n",
       " 'min': 0.0,\n",
       " 'max': 7.0,\n",
       " 'mean': 1.39,\n",
       " 'var': 0.87,\n",
       " 'std': 0.93,\n",
       " 'range': 7.0,\n",
       " 'q1': 1.0,\n",
       " 'q2': 1.0,\n",
       " 'q3': 1.0,\n",
       " 'skewness': 2.79,\n",
       " 'kurtosis': 8.85}"
      ]
     },
     "execution_count": 97,
     "metadata": {},
     "output_type": "execute_result"
    }
   ],
   "source": [
    "univariate_num(data=df, x=\"passenger_count\")"
   ]
  },
  {
   "cell_type": "code",
   "execution_count": 98,
   "id": "40687d6d",
   "metadata": {},
   "outputs": [],
   "source": [
    "def passenger(x):\n",
    "    if x <=1:\n",
    "        return \"no_or_one_passenger\"\n",
    "    elif x ==2:\n",
    "        return \"two_passenger\"\n",
    "    elif x>=3:\n",
    "        return \"more_than_two_passenger\"\n",
    "    "
   ]
  },
  {
   "cell_type": "code",
   "execution_count": 99,
   "id": "aed5f5c9",
   "metadata": {},
   "outputs": [],
   "source": [
    "df[\"passenger_cat\"]=df[\"passenger_count\"].apply(passenger)"
   ]
  },
  {
   "cell_type": "code",
   "execution_count": 100,
   "id": "75bbda78",
   "metadata": {},
   "outputs": [
    {
     "data": {
      "text/plain": [
       "no_or_one_passenger        36710\n",
       "two_passenger               7493\n",
       "more_than_two_passenger     4008\n",
       "Name: passenger_cat, dtype: int64"
      ]
     },
     "execution_count": 100,
     "metadata": {},
     "output_type": "execute_result"
    }
   ],
   "source": [
    "df[\"passenger_cat\"].value_counts()"
   ]
  },
  {
   "cell_type": "code",
   "execution_count": 101,
   "id": "10d8cc6f",
   "metadata": {},
   "outputs": [
    {
     "data": {
      "image/png": "[encoded data removed]",
      "text/plain": [
       "<Figure size 432x288 with 1 Axes>"
      ]
     },
     "metadata": {
      "needs_background": "light"
     },
     "output_type": "display_data"
    },
    {
     "data": {
      "text/plain": [
       "{'missing': 0,\n",
       " 'min': 0.0,\n",
       " 'max': 173.46,\n",
       " 'mean': 3.65,\n",
       " 'var': 22.12,\n",
       " 'std': 4.7,\n",
       " 'range': 173.46,\n",
       " 'q1': 1.11,\n",
       " 'q2': 1.9,\n",
       " 'q3': 3.68,\n",
       " 'skewness': 3.56,\n",
       " 'kurtosis': 43.95}"
      ]
     },
     "execution_count": 101,
     "metadata": {},
     "output_type": "execute_result"
    }
   ],
   "source": [
    "univariate_num(data=df, x=\"trip_distance\")"
   ]
  },
  {
   "cell_type": "code",
   "execution_count": 102,
   "id": "eb0a9307",
   "metadata": {},
   "outputs": [
    {
     "data": {
      "text/plain": [
       "count   48211.00000\n",
       "mean        3.64631\n",
       "std         4.70365\n",
       "min         0.00000\n",
       "1%          0.00000\n",
       "2%          0.10000\n",
       "3%          0.34000\n",
       "4%          0.43000\n",
       "5%          0.50000\n",
       "25%         1.11000\n",
       "50%         1.90000\n",
       "75%         3.68000\n",
       "90%         9.60000\n",
       "95%        16.33000\n",
       "96%        17.38000\n",
       "97%        18.07000\n",
       "98%        18.88800\n",
       "99%        20.44000\n",
       "max       173.46000\n",
       "Name: trip_distance, dtype: float64"
      ]
     },
     "execution_count": 102,
     "metadata": {},
     "output_type": "execute_result"
    }
   ],
   "source": [
    "np.set_printoptions(suppress=True)\n",
    "pd.set_option('display.float_format', lambda x: '%.5f' % x)\n",
    "\n",
    "df[\"trip_distance\"].describe(percentiles=[.01,.02,.03,.04,.05,.25,.5,.75,.9,.95,.96,.97,.98,.99])"
   ]
  },
  {
   "cell_type": "code",
   "execution_count": 103,
   "id": "534ea196",
   "metadata": {},
   "outputs": [
    {
     "name": "stdout",
     "output_type": "stream",
     "text": [
      "Total missing values : 0\n",
      "\n",
      "Total count of unique categories: 6\n",
      "\n",
      "Unique categories :\n",
      "[99.0, 1.0, 3.0, 2.0, 5.0, 4.0]\n",
      "Value count and %\n",
      "           Count percentage\n",
      "1.00000   45149     93.65%\n",
      "2.00000    2138      4.43%\n",
      "5.00000     509      1.06%\n",
      "99.00000    179      0.37%\n",
      "3.00000     162      0.34%\n",
      "4.00000      74      0.15%\n"
     ]
    },
    {
     "data": {
      "image/png": "[encoded data removed]",
      "text/plain": [
       "<Figure size 432x288 with 1 Axes>"
      ]
     },
     "metadata": {
      "needs_background": "light"
     },
     "output_type": "display_data"
    }
   ],
   "source": [
    "univariate_cat(data=df, x=\"RatecodeID\")"
   ]
  },
  {
   "cell_type": "code",
   "execution_count": 104,
   "id": "732dcea1",
   "metadata": {},
   "outputs": [],
   "source": [
    "np.set_printoptions(suppress=True)\n",
    "pd.set_option('display.float_format', lambda x: '%.5f' % x)\n",
    "\n",
    "df[\"RatecodeID\"]=df[\"RatecodeID\"].map({1:\"Standard_rate\", 2:\"JFK\", 3:\"Newark\", 4:\"Nassau\", \n",
    "                                       5:\"Negotiated_fare\",6:\"group_ride\"})"
   ]
  },
  {
   "cell_type": "code",
   "execution_count": 105,
   "id": "300a65a4",
   "metadata": {},
   "outputs": [
    {
     "name": "stdout",
     "output_type": "stream",
     "text": [
      "Total missing values : 0\n",
      "\n",
      "Total count of unique categories: 240\n",
      "\n",
      "Unique categories :\n",
      "[62, 17, 68, 162, 229, 264, 230, 7, 164, 79, 90, 170, 138, 234, 142, 236, 163, 186, 232, 43, 237, 144, 75, 143, 166, 239, 246, 263, 100, 140, 42, 141, 74, 48, 151, 114, 152, 233, 262, 158, 181, 161, 33, 228, 50, 249, 224, 255, 256, 261, 4, 107, 137, 209, 113, 95, 211, 231, 45, 238, 116, 146, 13, 129, 125, 49, 132, 61, 260, 205, 156, 41, 188, 87, 80, 64, 25, 145, 134, 216, 70, 12, 14, 265, 206, 112, 148, 226, 38, 37, 213, 92, 225, 88, 24, 85, 10, 82, 193, 1, 63, 243, 192, 168, 20, 66, 177, 179, 160, 195, 223, 127, 180, 174, 71, 97, 23, 244, 53, 21, 36, 248, 202, 210, 89, 9, 197, 194, 28, 165, 220, 200, 167, 218, 40, 98, 207, 219, 91, 185, 130, 198, 106, 65, 189, 55, 121, 247, 81, 203, 124, 169, 22, 72, 52, 257, 215, 54, 182, 119, 157, 254, 83, 102, 173, 93, 108, 242, 69, 175, 76, 135, 35, 56, 252, 26, 196, 217, 250, 131, 133, 259, 258, 34, 126, 29, 155, 30, 19, 18, 139, 128, 190, 86, 15, 39, 60, 16, 191, 227, 222, 159, 57, 67, 73, 208, 123, 184, 51, 47, 171, 136, 118, 235, 78, 94, 77, 44, 11, 32, 154, 201, 241, 214, 150, 101, 46, 31, 147, 183, 149, 96, 3, 153, 178, 120, 212, 240, 221, 8]\n",
      "Value count and %\n",
      "      Count percentage\n",
      "236   2094      4.34%\n",
      "237   2000      4.15%\n",
      "161   1792      3.72%\n",
      "230   1464      3.04%\n",
      "170   1364      2.83%\n",
      "..     ...        ...\n",
      "46       1       0.0%\n",
      "118      1       0.0%\n",
      "94       1       0.0%\n",
      "206      1       0.0%\n",
      "8        1       0.0%\n",
      "\n",
      "[240 rows x 2 columns]\n"
     ]
    },
    {
     "data": {
      "image/png": "[encoded data removed]",
      "text/plain": [
       "<Figure size 432x288 with 1 Axes>"
      ]
     },
     "metadata": {
      "needs_background": "light"
     },
     "output_type": "display_data"
    }
   ],
   "source": [
    "univariate_cat(data=df, x=\"DOLocationID\")"
   ]
  },
  {
   "cell_type": "code",
   "execution_count": 106,
   "id": "98a93efc",
   "metadata": {},
   "outputs": [],
   "source": [
    "df[\"is_pu_do_location_same\"]=np.where(df[\"PULocationID\"]==df[\"DOLocationID\"],1,0)"
   ]
  },
  {
   "cell_type": "code",
   "execution_count": 107,
   "id": "821a834d",
   "metadata": {},
   "outputs": [
    {
     "data": {
      "text/plain": [
       "0    45705\n",
       "1     2506\n",
       "Name: is_pu_do_location_same, dtype: int64"
      ]
     },
     "execution_count": 107,
     "metadata": {},
     "output_type": "execute_result"
    }
   ],
   "source": [
    "df[\"is_pu_do_location_same\"].value_counts()"
   ]
  },
  {
   "cell_type": "code",
   "execution_count": 108,
   "id": "fe55e6d1",
   "metadata": {},
   "outputs": [],
   "source": [
    "df.drop(columns=[\"PULocationID\", \"DOLocationID\"], inplace=True)"
   ]
  },
  {
   "cell_type": "code",
   "execution_count": 109,
   "id": "1d32d7d3",
   "metadata": {},
   "outputs": [],
   "source": [
    "# df.columns.to_list()"
   ]
  },
  {
   "cell_type": "code",
   "execution_count": 110,
   "id": "91814c19",
   "metadata": {},
   "outputs": [
    {
     "name": "stdout",
     "output_type": "stream",
     "text": [
      "Total missing values : 0\n",
      "\n",
      "Total count of unique categories: 4\n",
      "\n",
      "Unique categories :\n",
      "[1, 2, 3, 4]\n",
      "Value count and %\n",
      "    Count percentage\n",
      "1  37951     78.72%\n",
      "2   9609     19.93%\n",
      "4    381      0.79%\n",
      "3    270      0.56%\n"
     ]
    },
    {
     "data": {
      "image/png": "[encoded data removed]",
      "text/plain": [
       "<Figure size 432x288 with 1 Axes>"
      ]
     },
     "metadata": {
      "needs_background": "light"
     },
     "output_type": "display_data"
    }
   ],
   "source": [
    "univariate_cat(df,\"payment_type\")"
   ]
  },
  {
   "cell_type": "code",
   "execution_count": 111,
   "id": "0c8f12e8",
   "metadata": {},
   "outputs": [],
   "source": [
    "df[\"payment_type\"]=df[\"payment_type\"].map({1:\"cc\", 2:\"cash\", 3:\"no_charge\",4:\"dispute\", 5:\"unknown\",6:\"voided_trip\"})"
   ]
  },
  {
   "cell_type": "code",
   "execution_count": 112,
   "id": "bd218655",
   "metadata": {},
   "outputs": [
    {
     "data": {
      "text/plain": [
       "['VendorID',\n",
       " 'tpep_pickup_datetime',\n",
       " 'tpep_dropoff_datetime',\n",
       " 'passenger_count',\n",
       " 'trip_distance',\n",
       " 'RatecodeID',\n",
       " 'store_and_fwd_flag',\n",
       " 'payment_type',\n",
       " 'fare_amount',\n",
       " 'extra',\n",
       " 'mta_tax',\n",
       " 'tip_amount',\n",
       " 'tolls_amount',\n",
       " 'improvement_surcharge',\n",
       " 'total_amount',\n",
       " 'congestion_surcharge',\n",
       " 'airport_fee',\n",
       " 'passenger_cat',\n",
       " 'is_pu_do_location_same']"
      ]
     },
     "execution_count": 112,
     "metadata": {},
     "output_type": "execute_result"
    }
   ],
   "source": [
    "# 1= Credit card\n",
    "# 2= Cash\n",
    "# 3= No charge\n",
    "# 4= Dispute\n",
    "# 5= Unknown\n",
    "# 6= Voided trip\n",
    "df.columns.to_list()"
   ]
  },
  {
   "cell_type": "code",
   "execution_count": 113,
   "id": "bc4b672f",
   "metadata": {},
   "outputs": [
    {
     "data": {
      "image/png": "[encoded data removed]",
      "text/plain": [
       "<Figure size 432x288 with 1 Axes>"
      ]
     },
     "metadata": {
      "needs_background": "light"
     },
     "output_type": "display_data"
    },
    {
     "data": {
      "text/plain": [
       "{'missing': 0,\n",
       " 'min': -61.85,\n",
       " 'max': 187444.96,\n",
       " 'mean': 19.28,\n",
       " 'var': 728893.17,\n",
       " 'std': 853.75,\n",
       " 'range': 187506.81,\n",
       " 'q1': 7.0,\n",
       " 'q2': 10.5,\n",
       " 'q3': 17.0,\n",
       " 'skewness': 219.47,\n",
       " 'kurtosis': 48181.29}"
      ]
     },
     "execution_count": 113,
     "metadata": {},
     "output_type": "execute_result"
    }
   ],
   "source": [
    "univariate_num(df,\"fare_amount\")"
   ]
  },
  {
   "cell_type": "code",
   "execution_count": 114,
   "id": "7bc5093e",
   "metadata": {},
   "outputs": [
    {
     "data": {
      "text/plain": [
       "(368, 19)"
      ]
     },
     "execution_count": 114,
     "metadata": {},
     "output_type": "execute_result"
    }
   ],
   "source": [
    "df[df[\"fare_amount\"]<2.5].shape "
   ]
  },
  {
   "cell_type": "code",
   "execution_count": 115,
   "id": "f41a17f8",
   "metadata": {},
   "outputs": [
    {
     "data": {
      "text/plain": [
       "count    48211.00000\n",
       "mean        19.28485\n",
       "std        853.75241\n",
       "min        -61.85000\n",
       "1%           2.50000\n",
       "2%           3.50000\n",
       "3%           4.00000\n",
       "4%           4.50000\n",
       "5%           4.50000\n",
       "25%          7.00000\n",
       "50%         10.50000\n",
       "75%         17.00000\n",
       "90%         33.50000\n",
       "95%         52.00000\n",
       "96%         52.00000\n",
       "97%         52.00000\n",
       "98%         52.00000\n",
       "99%         63.00000\n",
       "max     187444.96000\n",
       "Name: fare_amount, dtype: float64"
      ]
     },
     "execution_count": 115,
     "metadata": {},
     "output_type": "execute_result"
    }
   ],
   "source": [
    "df[\"fare_amount\"].describe(percentiles=[.01,.02,.03,.04,.05,.25,.5,.75,.9,.95,.96,.97,.98,.99])"
   ]
  },
  {
   "cell_type": "code",
   "execution_count": 116,
   "id": "475e7998",
   "metadata": {},
   "outputs": [
    {
     "name": "stdout",
     "output_type": "stream",
     "text": [
      "Total missing values : 0\n",
      "\n",
      "Total count of unique categories: 21\n",
      "\n",
      "Unique categories :\n",
      "[0.0, 1.0, 0.5, 3.0, 2.5, 3.5, 3.75, 4.25, 4.5, 1.75, 8.25, -0.5, 1.25, 4.75, 2.25, -4.5, -1.0, 7.0, 5.75, -2.0, 4.0]\n",
      "Value count and %\n",
      "           Count percentage\n",
      "0.00000   18688     38.76%\n",
      "0.50000    9375     19.45%\n",
      "1.00000    6595     13.68%\n",
      "2.50000    6396     13.27%\n",
      "3.00000    3098      6.43%\n",
      "3.50000    2611      5.42%\n",
      "3.75000     368      0.76%\n",
      "4.50000     311      0.65%\n",
      "1.25000     209      0.43%\n",
      "1.75000     148      0.31%\n",
      "-0.50000     85      0.18%\n",
      "2.25000      64      0.13%\n",
      "-1.00000     62      0.13%\n",
      "8.25000      55      0.11%\n",
      "4.25000      53      0.11%\n",
      "4.75000      45      0.09%\n",
      "7.00000      34      0.07%\n",
      "-4.50000      9      0.02%\n",
      "5.75000       3      0.01%\n",
      "-2.00000      1       0.0%\n",
      "4.00000       1       0.0%\n"
     ]
    },
    {
     "data": {
      "image/png": "[encoded data removed]",
      "text/plain": [
       "<Figure size 432x288 with 1 Axes>"
      ]
     },
     "metadata": {
      "needs_background": "light"
     },
     "output_type": "display_data"
    }
   ],
   "source": [
    "univariate_cat(df,\"extra\")"
   ]
  },
  {
   "cell_type": "code",
   "execution_count": 117,
   "id": "0392f325",
   "metadata": {},
   "outputs": [
    {
     "data": {
      "text/plain": [
       "-0.50000    85\n",
       "-1.00000    62\n",
       "-4.50000     9\n",
       "-2.00000     1\n",
       "Name: extra, dtype: int64"
      ]
     },
     "execution_count": 117,
     "metadata": {},
     "output_type": "execute_result"
    }
   ],
   "source": [
    "df[df[\"extra\"]<0][\"extra\"].value_counts()"
   ]
  },
  {
   "cell_type": "code",
   "execution_count": 118,
   "id": "c6228920",
   "metadata": {},
   "outputs": [],
   "source": [
    "df=df[df[\"extra\"]>=0]"
   ]
  },
  {
   "cell_type": "code",
   "execution_count": 119,
   "id": "c000bb4a",
   "metadata": {},
   "outputs": [
    {
     "name": "stdout",
     "output_type": "stream",
     "text": [
      "Total missing values : 0\n",
      "\n",
      "Total count of unique categories: 5\n",
      "\n",
      "Unique categories :\n",
      "[0.5, 0.0, -0.5, 2.54, 0.55]\n",
      "Value count and %\n",
      "           Count percentage\n",
      "0.50000   47234     98.29%\n",
      "0.00000     641      1.33%\n",
      "-0.50000    174      0.36%\n",
      "2.54000       3      0.01%\n",
      "0.55000       2       0.0%\n"
     ]
    },
    {
     "data": {
      "image/png": "[encoded data removed]",
      "text/plain": [
       "<Figure size 432x288 with 1 Axes>"
      ]
     },
     "metadata": {
      "needs_background": "light"
     },
     "output_type": "display_data"
    }
   ],
   "source": [
    "# 'VendorID','tpep_pickup_datetime','tpep_dropoff_datetime','passenger_count','trip_distance','RatecodeID','store_and_fwd_flag',\n",
    "#  'payment_type','fare_amount','extra','mta_tax','tip_amount','tolls_amount','improvement_surcharge','total_amount','congestion_surcharge',\n",
    "#  'airport_fee','passenger_cat','is_pu_do_location_same'\n",
    "univariate_cat(df, \"mta_tax\")"
   ]
  },
  {
   "cell_type": "code",
   "execution_count": 120,
   "id": "cfec6cff",
   "metadata": {},
   "outputs": [],
   "source": [
    "df=df[df[\"mta_tax\"]>=0]"
   ]
  },
  {
   "cell_type": "code",
   "execution_count": 121,
   "id": "05c3ae39",
   "metadata": {},
   "outputs": [],
   "source": [
    "# df.shape"
   ]
  },
  {
   "cell_type": "code",
   "execution_count": 122,
   "id": "b9b4e29c",
   "metadata": {},
   "outputs": [
    {
     "data": {
      "image/png": "[encoded data removed]",
      "text/plain": [
       "<Figure size 432x288 with 1 Axes>"
      ]
     },
     "metadata": {
      "needs_background": "light"
     },
     "output_type": "display_data"
    },
    {
     "data": {
      "text/plain": [
       "{'missing': 0,\n",
       " 'min': -1.25,\n",
       " 'max': 1.25,\n",
       " 'mean': 0.11,\n",
       " 'var': 0.13,\n",
       " 'std': 0.36,\n",
       " 'range': 2.5,\n",
       " 'q1': 0.0,\n",
       " 'q2': 0.0,\n",
       " 'q3': 0.0,\n",
       " 'skewness': 2.88,\n",
       " 'kurtosis': 6.29}"
      ]
     },
     "execution_count": 122,
     "metadata": {},
     "output_type": "execute_result"
    }
   ],
   "source": [
    "univariate_num(df, \"airport_fee\")"
   ]
  },
  {
   "cell_type": "code",
   "execution_count": 123,
   "id": "15331983",
   "metadata": {},
   "outputs": [
    {
     "data": {
      "text/plain": [
       "count   47880.00000\n",
       "mean        0.11161\n",
       "std         0.35663\n",
       "min        -1.25000\n",
       "1%          0.00000\n",
       "2%          0.00000\n",
       "3%          0.00000\n",
       "4%          0.00000\n",
       "5%          0.00000\n",
       "25%         0.00000\n",
       "50%         0.00000\n",
       "75%         0.00000\n",
       "90%         0.00000\n",
       "95%         1.25000\n",
       "96%         1.25000\n",
       "97%         1.25000\n",
       "98%         1.25000\n",
       "99%         1.25000\n",
       "max         1.25000\n",
       "Name: airport_fee, dtype: float64"
      ]
     },
     "execution_count": 123,
     "metadata": {},
     "output_type": "execute_result"
    }
   ],
   "source": [
    "df[\"airport_fee\"].describe(percentiles=[.01,.02,.03,.04,.05,.25,.5,.75,.9,.95,.96,.97,.98,.99])"
   ]
  },
  {
   "cell_type": "code",
   "execution_count": 124,
   "id": "26dcd2b0",
   "metadata": {},
   "outputs": [],
   "source": [
    "df.drop(columns=[\"improvement_surcharge\"], inplace=True)"
   ]
  },
  {
   "cell_type": "code",
   "execution_count": 125,
   "id": "a9c1b51e",
   "metadata": {},
   "outputs": [
    {
     "data": {
      "text/plain": [
       "dtype('<M8[ns]')"
      ]
     },
     "execution_count": 125,
     "metadata": {},
     "output_type": "execute_result"
    }
   ],
   "source": [
    "df[\"tpep_pickup_datetime\"].dtypes"
   ]
  },
  {
   "cell_type": "code",
   "execution_count": 126,
   "id": "49a0d411",
   "metadata": {},
   "outputs": [
    {
     "data": {
      "text/plain": [
       "Timestamp('2022-09-01 00:00:04')"
      ]
     },
     "execution_count": 126,
     "metadata": {},
     "output_type": "execute_result"
    }
   ],
   "source": [
    "df[\"tpep_pickup_datetime\"].min()"
   ]
  },
  {
   "cell_type": "code",
   "execution_count": 127,
   "id": "47e63095",
   "metadata": {},
   "outputs": [
    {
     "data": {
      "text/plain": [
       "Timestamp('2022-10-01 00:01:27')"
      ]
     },
     "execution_count": 127,
     "metadata": {},
     "output_type": "execute_result"
    }
   ],
   "source": [
    "df[\"tpep_pickup_datetime\"].max()"
   ]
  },
  {
   "cell_type": "code",
   "execution_count": 128,
   "id": "f770f111",
   "metadata": {},
   "outputs": [],
   "source": [
    "df[\"year\"]=df[\"tpep_pickup_datetime\"].dt.year\n",
    "df[\"month\"]=df[\"tpep_pickup_datetime\"].dt.month \n",
    "df[\"day\"]=df[\"tpep_pickup_datetime\"].dt.dayofweek\n",
    "df[\"hour\"]=df[\"tpep_pickup_datetime\"].dt.hour\n",
    "df[\"minute\"]=df[\"tpep_pickup_datetime\"].dt.minute\n",
    "df[\"time\"]=df[\"tpep_pickup_datetime\"].dt.time\n",
    "\n",
    "df[\"day_month\"]=df[\"tpep_pickup_datetime\"].dt.day\n",
    "\n",
    "\n",
    "df[\"year_drop\"]=df[\"tpep_dropoff_datetime\"].dt.year\n",
    "df[\"month_drop\"]=df[\"tpep_dropoff_datetime\"].dt.month \n",
    "df[\"day_drop\"]=df[\"tpep_dropoff_datetime\"].dt.dayofweek\n",
    "df[\"hour_drop\"]=df[\"tpep_dropoff_datetime\"].dt.hour\n",
    "df[\"minute_drop\"]=df[\"tpep_dropoff_datetime\"].dt.minute\n",
    "df[\"time_drop\"]=df[\"tpep_dropoff_datetime\"].dt.time\n",
    "df[\"day_month_drop\"]=df[\"tpep_dropoff_datetime\"].dt.day\n"
   ]
  },
  {
   "cell_type": "code",
   "execution_count": 129,
   "id": "60c78173",
   "metadata": {},
   "outputs": [
    {
     "data": {
      "text/plain": [
       "1895567   0 days 00:24:05\n",
       "2729396   0 days 00:40:23\n",
       "2800893   0 days 00:11:59\n",
       "903727    0 days 00:08:50\n",
       "730612    0 days 00:16:16\n",
       "                ...      \n",
       "1344320   0 days 00:03:51\n",
       "1296075   0 days 00:08:16\n",
       "1232502   0 days 00:10:19\n",
       "1025893   0 days 00:06:00\n",
       "706858    0 days 00:18:59\n",
       "Length: 47880, dtype: timedelta64[ns]"
      ]
     },
     "execution_count": 129,
     "metadata": {},
     "output_type": "execute_result"
    }
   ],
   "source": [
    "df[\"tpep_dropoff_datetime\"]-df[\"tpep_pickup_datetime\"]"
   ]
  },
  {
   "cell_type": "code",
   "execution_count": 130,
   "id": "97829891",
   "metadata": {},
   "outputs": [],
   "source": [
    "df[\"duration\"]=((df[\"tpep_dropoff_datetime\"]-df[\"tpep_pickup_datetime\"]))/pd.Timedelta(minutes=1)"
   ]
  },
  {
   "cell_type": "code",
   "execution_count": 131,
   "id": "b523cbe1",
   "metadata": {},
   "outputs": [
    {
     "data": {
      "text/plain": [
       "count   47880.00000\n",
       "mean       18.20551\n",
       "std        42.34837\n",
       "min         0.00000\n",
       "1%          0.31667\n",
       "2%          1.91667\n",
       "3%          2.61667\n",
       "4%          3.06667\n",
       "5%          3.45000\n",
       "10%         4.81667\n",
       "25%         7.81667\n",
       "50%        13.13333\n",
       "75%        21.43333\n",
       "90%        34.23333\n",
       "95%        45.55000\n",
       "96%        49.38333\n",
       "97%        54.61667\n",
       "98%        61.60700\n",
       "99%        72.81667\n",
       "max      1439.25000\n",
       "Name: duration, dtype: float64"
      ]
     },
     "execution_count": 131,
     "metadata": {},
     "output_type": "execute_result"
    }
   ],
   "source": [
    "df[\"duration\"].describe(percentiles=[.01,.02,.03,.04,.05,.1,.25,.5,.75,.9,.95,.96,.97,.98,.99])"
   ]
  },
  {
   "cell_type": "code",
   "execution_count": 132,
   "id": "d308db3d",
   "metadata": {},
   "outputs": [],
   "source": [
    "def dura(x):\n",
    "    if x<15:\n",
    "        return \"short_trip\"\n",
    "    elif x>=15 and x<30:\n",
    "        return \"medium_time_trip\"\n",
    "    elif x>=30 and x<60:\n",
    "        return \"long_time_trip\"\n",
    "    else:\n",
    "        return \"very_long_time_trip\""
   ]
  },
  {
   "cell_type": "code",
   "execution_count": 133,
   "id": "1293be06",
   "metadata": {},
   "outputs": [],
   "source": [
    "df[\"length_duration\"]=df[\"duration\"].apply(dura) "
   ]
  },
  {
   "cell_type": "code",
   "execution_count": 134,
   "id": "5209622c",
   "metadata": {},
   "outputs": [],
   "source": [
    "def time(x):\n",
    "    if x>=5 and x<8:\n",
    "        return \"early_morning_trip\"\n",
    "    elif x>=8 and x <12:\n",
    "        return \"morning_office_trip\"\n",
    "    elif x>=12 and x<16:\n",
    "        return \"afternoo_trip\"\n",
    "    elif x>=16 and x<20:\n",
    "        return \"evening_office_trip\"\n",
    "    elif x>=20 and x<23:\n",
    "        return \"night_trip\"\n",
    "    elif x>=23 and x<5:\n",
    "        return \"Late_night_trip\"\n",
    "    else :\n",
    "        return \"Unknown\""
   ]
  },
  {
   "cell_type": "code",
   "execution_count": 135,
   "id": "59698c26",
   "metadata": {},
   "outputs": [],
   "source": [
    "df[\"hour_trip\"]=df[\"hour\"].apply(time)"
   ]
  },
  {
   "cell_type": "code",
   "execution_count": 136,
   "id": "791dd332",
   "metadata": {},
   "outputs": [],
   "source": [
    "def month(x):\n",
    "    if x<=10:\n",
    "        return \"start_of_month\"\n",
    "    elif x>10 and x<=20:\n",
    "        return \"mid_of_month\"\n",
    "    elif x >20 :\n",
    "        return \"end_of_month\"\n",
    "    "
   ]
  },
  {
   "cell_type": "code",
   "execution_count": 137,
   "id": "7e8cc7f4",
   "metadata": {},
   "outputs": [],
   "source": [
    "df[\"month_cat\"]=df[\"day_month\"].apply(month)"
   ]
  },
  {
   "cell_type": "code",
   "execution_count": 138,
   "id": "94249401",
   "metadata": {},
   "outputs": [],
   "source": [
    "df[\"is_weekend\"]=np.where(df[\"day\"].isin([5,6]), 1,0)"
   ]
  },
  {
   "cell_type": "code",
   "execution_count": 139,
   "id": "50c4d540",
   "metadata": {},
   "outputs": [
    {
     "data": {
      "text/plain": [
       "(47880, 37)"
      ]
     },
     "execution_count": 139,
     "metadata": {},
     "output_type": "execute_result"
    }
   ],
   "source": [
    "df.shape"
   ]
  },
  {
   "cell_type": "code",
   "execution_count": 140,
   "id": "fbb0d5da",
   "metadata": {},
   "outputs": [
    {
     "data": {
      "text/plain": [
       "Index(['VendorID', 'tpep_pickup_datetime', 'tpep_dropoff_datetime',\n",
       "       'passenger_count', 'trip_distance', 'RatecodeID', 'store_and_fwd_flag',\n",
       "       'payment_type', 'fare_amount', 'extra', 'mta_tax', 'tip_amount',\n",
       "       'tolls_amount', 'total_amount', 'congestion_surcharge', 'airport_fee',\n",
       "       'passenger_cat', 'is_pu_do_location_same', 'year', 'month', 'day',\n",
       "       'hour', 'minute', 'time', 'day_month', 'year_drop', 'month_drop',\n",
       "       'day_drop', 'hour_drop', 'minute_drop', 'time_drop', 'day_month_drop',\n",
       "       'duration', 'length_duration', 'hour_trip', 'month_cat', 'is_weekend'],\n",
       "      dtype='object')"
      ]
     },
     "execution_count": 140,
     "metadata": {},
     "output_type": "execute_result"
    }
   ],
   "source": [
    "df.columns"
   ]
  },
  {
   "cell_type": "code",
   "execution_count": 141,
   "id": "2d760baf",
   "metadata": {},
   "outputs": [],
   "source": [
    "df.drop(columns=['tpep_pickup_datetime', 'tpep_dropoff_datetime'], inplace=True)"
   ]
  },
  {
   "cell_type": "code",
   "execution_count": 142,
   "id": "c0dc80c0",
   "metadata": {},
   "outputs": [
    {
     "data": {
      "text/plain": [
       "VendorID                   object\n",
       "passenger_count           float64\n",
       "trip_distance             float64\n",
       "RatecodeID                 object\n",
       "store_and_fwd_flag         object\n",
       "payment_type               object\n",
       "fare_amount               float64\n",
       "extra                     float64\n",
       "mta_tax                   float64\n",
       "tip_amount                float64\n",
       "tolls_amount              float64\n",
       "total_amount              float64\n",
       "congestion_surcharge      float64\n",
       "airport_fee               float64\n",
       "passenger_cat              object\n",
       "is_pu_do_location_same      int32\n",
       "year                        int64\n",
       "month                       int64\n",
       "day                         int64\n",
       "hour                        int64\n",
       "minute                      int64\n",
       "time                       object\n",
       "day_month                   int64\n",
       "year_drop                   int64\n",
       "month_drop                  int64\n",
       "day_drop                    int64\n",
       "hour_drop                   int64\n",
       "minute_drop                 int64\n",
       "time_drop                  object\n",
       "day_month_drop              int64\n",
       "duration                  float64\n",
       "length_duration            object\n",
       "hour_trip                  object\n",
       "month_cat                  object\n",
       "is_weekend                  int32\n",
       "dtype: object"
      ]
     },
     "execution_count": 142,
     "metadata": {},
     "output_type": "execute_result"
    }
   ],
   "source": [
    "df.dtypes"
   ]
  },
  {
   "cell_type": "code",
   "execution_count": 143,
   "id": "5b7bb651",
   "metadata": {},
   "outputs": [],
   "source": [
    "# df.info()"
   ]
  },
  {
   "cell_type": "code",
   "execution_count": 144,
   "id": "62895701",
   "metadata": {},
   "outputs": [
    {
     "data": {
      "text/html": [
       "<div>\n",
       "<style scoped>\n",
       "    .dataframe tbody tr th:only-of-type {\n",
       "        vertical-align: middle;\n",
       "    }\n",
       "\n",
       "    .dataframe tbody tr th {\n",
       "        vertical-align: top;\n",
       "    }\n",
       "\n",
       "    .dataframe thead th {\n",
       "        text-align: right;\n",
       "    }\n",
       "</style>\n",
       "<table border=\"1\" class=\"dataframe\">\n",
       "  <thead>\n",
       "    <tr style=\"text-align: right;\">\n",
       "      <th></th>\n",
       "      <th>count</th>\n",
       "      <th>mean</th>\n",
       "      <th>std</th>\n",
       "      <th>min</th>\n",
       "      <th>1%</th>\n",
       "      <th>2%</th>\n",
       "      <th>3%</th>\n",
       "      <th>4%</th>\n",
       "      <th>5%</th>\n",
       "      <th>10%</th>\n",
       "      <th>25%</th>\n",
       "      <th>50%</th>\n",
       "      <th>75%</th>\n",
       "      <th>90%</th>\n",
       "      <th>95%</th>\n",
       "      <th>96%</th>\n",
       "      <th>97%</th>\n",
       "      <th>98%</th>\n",
       "      <th>99%</th>\n",
       "      <th>max</th>\n",
       "    </tr>\n",
       "  </thead>\n",
       "  <tbody>\n",
       "    <tr>\n",
       "      <th>passenger_count</th>\n",
       "      <td>47880.00000</td>\n",
       "      <td>1.38569</td>\n",
       "      <td>0.93426</td>\n",
       "      <td>0.00000</td>\n",
       "      <td>0.00000</td>\n",
       "      <td>1.00000</td>\n",
       "      <td>1.00000</td>\n",
       "      <td>1.00000</td>\n",
       "      <td>1.00000</td>\n",
       "      <td>1.00000</td>\n",
       "      <td>1.00000</td>\n",
       "      <td>1.00000</td>\n",
       "      <td>1.00000</td>\n",
       "      <td>2.00000</td>\n",
       "      <td>3.00000</td>\n",
       "      <td>4.00000</td>\n",
       "      <td>4.00000</td>\n",
       "      <td>5.00000</td>\n",
       "      <td>6.00000</td>\n",
       "      <td>7.00000</td>\n",
       "    </tr>\n",
       "    <tr>\n",
       "      <th>trip_distance</th>\n",
       "      <td>47880.00000</td>\n",
       "      <td>3.65642</td>\n",
       "      <td>4.70862</td>\n",
       "      <td>0.00000</td>\n",
       "      <td>0.00000</td>\n",
       "      <td>0.20000</td>\n",
       "      <td>0.38000</td>\n",
       "      <td>0.45000</td>\n",
       "      <td>0.50000</td>\n",
       "      <td>0.70000</td>\n",
       "      <td>1.12000</td>\n",
       "      <td>1.90000</td>\n",
       "      <td>3.69000</td>\n",
       "      <td>9.62000</td>\n",
       "      <td>16.36000</td>\n",
       "      <td>17.40000</td>\n",
       "      <td>18.08000</td>\n",
       "      <td>18.89420</td>\n",
       "      <td>20.45210</td>\n",
       "      <td>173.46000</td>\n",
       "    </tr>\n",
       "    <tr>\n",
       "      <th>fare_amount</th>\n",
       "      <td>47880.00000</td>\n",
       "      <td>19.50413</td>\n",
       "      <td>856.69362</td>\n",
       "      <td>-61.85000</td>\n",
       "      <td>3.50000</td>\n",
       "      <td>4.00000</td>\n",
       "      <td>4.00000</td>\n",
       "      <td>4.50000</td>\n",
       "      <td>4.50000</td>\n",
       "      <td>5.50000</td>\n",
       "      <td>7.50000</td>\n",
       "      <td>10.50000</td>\n",
       "      <td>17.50000</td>\n",
       "      <td>34.00000</td>\n",
       "      <td>52.00000</td>\n",
       "      <td>52.00000</td>\n",
       "      <td>52.00000</td>\n",
       "      <td>52.00000</td>\n",
       "      <td>63.00000</td>\n",
       "      <td>187444.96000</td>\n",
       "    </tr>\n",
       "    <tr>\n",
       "      <th>extra</th>\n",
       "      <td>47880.00000</td>\n",
       "      <td>1.05056</td>\n",
       "      <td>1.25998</td>\n",
       "      <td>0.00000</td>\n",
       "      <td>0.00000</td>\n",
       "      <td>0.00000</td>\n",
       "      <td>0.00000</td>\n",
       "      <td>0.00000</td>\n",
       "      <td>0.00000</td>\n",
       "      <td>0.00000</td>\n",
       "      <td>0.00000</td>\n",
       "      <td>0.50000</td>\n",
       "      <td>2.50000</td>\n",
       "      <td>3.00000</td>\n",
       "      <td>3.50000</td>\n",
       "      <td>3.50000</td>\n",
       "      <td>3.50000</td>\n",
       "      <td>3.50000</td>\n",
       "      <td>4.25000</td>\n",
       "      <td>8.25000</td>\n",
       "    </tr>\n",
       "    <tr>\n",
       "      <th>mta_tax</th>\n",
       "      <td>47880.00000</td>\n",
       "      <td>0.49344</td>\n",
       "      <td>0.05971</td>\n",
       "      <td>0.00000</td>\n",
       "      <td>0.00000</td>\n",
       "      <td>0.50000</td>\n",
       "      <td>0.50000</td>\n",
       "      <td>0.50000</td>\n",
       "      <td>0.50000</td>\n",
       "      <td>0.50000</td>\n",
       "      <td>0.50000</td>\n",
       "      <td>0.50000</td>\n",
       "      <td>0.50000</td>\n",
       "      <td>0.50000</td>\n",
       "      <td>0.50000</td>\n",
       "      <td>0.50000</td>\n",
       "      <td>0.50000</td>\n",
       "      <td>0.50000</td>\n",
       "      <td>0.50000</td>\n",
       "      <td>2.54000</td>\n",
       "    </tr>\n",
       "    <tr>\n",
       "      <th>tip_amount</th>\n",
       "      <td>47880.00000</td>\n",
       "      <td>2.84177</td>\n",
       "      <td>3.30777</td>\n",
       "      <td>0.00000</td>\n",
       "      <td>0.00000</td>\n",
       "      <td>0.00000</td>\n",
       "      <td>0.00000</td>\n",
       "      <td>0.00000</td>\n",
       "      <td>0.00000</td>\n",
       "      <td>0.00000</td>\n",
       "      <td>1.00000</td>\n",
       "      <td>2.19000</td>\n",
       "      <td>3.46000</td>\n",
       "      <td>6.02000</td>\n",
       "      <td>10.00000</td>\n",
       "      <td>10.84840</td>\n",
       "      <td>12.17000</td>\n",
       "      <td>12.62000</td>\n",
       "      <td>15.00000</td>\n",
       "      <td>100.00000</td>\n",
       "    </tr>\n",
       "    <tr>\n",
       "      <th>tolls_amount</th>\n",
       "      <td>47880.00000</td>\n",
       "      <td>0.60260</td>\n",
       "      <td>2.14657</td>\n",
       "      <td>0.00000</td>\n",
       "      <td>0.00000</td>\n",
       "      <td>0.00000</td>\n",
       "      <td>0.00000</td>\n",
       "      <td>0.00000</td>\n",
       "      <td>0.00000</td>\n",
       "      <td>0.00000</td>\n",
       "      <td>0.00000</td>\n",
       "      <td>0.00000</td>\n",
       "      <td>0.00000</td>\n",
       "      <td>0.00000</td>\n",
       "      <td>6.55000</td>\n",
       "      <td>6.55000</td>\n",
       "      <td>6.55000</td>\n",
       "      <td>6.55000</td>\n",
       "      <td>6.55000</td>\n",
       "      <td>99.99000</td>\n",
       "    </tr>\n",
       "    <tr>\n",
       "      <th>total_amount</th>\n",
       "      <td>47880.00000</td>\n",
       "      <td>26.53275</td>\n",
       "      <td>856.74585</td>\n",
       "      <td>-63.40000</td>\n",
       "      <td>6.80000</td>\n",
       "      <td>7.80000</td>\n",
       "      <td>8.30000</td>\n",
       "      <td>8.80000</td>\n",
       "      <td>8.97000</td>\n",
       "      <td>10.14000</td>\n",
       "      <td>12.36000</td>\n",
       "      <td>16.55000</td>\n",
       "      <td>23.80000</td>\n",
       "      <td>47.10000</td>\n",
       "      <td>65.52150</td>\n",
       "      <td>69.12000</td>\n",
       "      <td>74.20000</td>\n",
       "      <td>75.72000</td>\n",
       "      <td>81.12000</td>\n",
       "      <td>187448.26000</td>\n",
       "    </tr>\n",
       "    <tr>\n",
       "      <th>congestion_surcharge</th>\n",
       "      <td>47880.00000</td>\n",
       "      <td>2.29809</td>\n",
       "      <td>0.68157</td>\n",
       "      <td>-2.50000</td>\n",
       "      <td>0.00000</td>\n",
       "      <td>0.00000</td>\n",
       "      <td>0.00000</td>\n",
       "      <td>0.00000</td>\n",
       "      <td>0.00000</td>\n",
       "      <td>2.50000</td>\n",
       "      <td>2.50000</td>\n",
       "      <td>2.50000</td>\n",
       "      <td>2.50000</td>\n",
       "      <td>2.50000</td>\n",
       "      <td>2.50000</td>\n",
       "      <td>2.50000</td>\n",
       "      <td>2.50000</td>\n",
       "      <td>2.50000</td>\n",
       "      <td>2.50000</td>\n",
       "      <td>2.50000</td>\n",
       "    </tr>\n",
       "    <tr>\n",
       "      <th>airport_fee</th>\n",
       "      <td>47880.00000</td>\n",
       "      <td>0.11161</td>\n",
       "      <td>0.35663</td>\n",
       "      <td>-1.25000</td>\n",
       "      <td>0.00000</td>\n",
       "      <td>0.00000</td>\n",
       "      <td>0.00000</td>\n",
       "      <td>0.00000</td>\n",
       "      <td>0.00000</td>\n",
       "      <td>0.00000</td>\n",
       "      <td>0.00000</td>\n",
       "      <td>0.00000</td>\n",
       "      <td>0.00000</td>\n",
       "      <td>0.00000</td>\n",
       "      <td>1.25000</td>\n",
       "      <td>1.25000</td>\n",
       "      <td>1.25000</td>\n",
       "      <td>1.25000</td>\n",
       "      <td>1.25000</td>\n",
       "      <td>1.25000</td>\n",
       "    </tr>\n",
       "    <tr>\n",
       "      <th>is_pu_do_location_same</th>\n",
       "      <td>47880.00000</td>\n",
       "      <td>0.05002</td>\n",
       "      <td>0.21799</td>\n",
       "      <td>0.00000</td>\n",
       "      <td>0.00000</td>\n",
       "      <td>0.00000</td>\n",
       "      <td>0.00000</td>\n",
       "      <td>0.00000</td>\n",
       "      <td>0.00000</td>\n",
       "      <td>0.00000</td>\n",
       "      <td>0.00000</td>\n",
       "      <td>0.00000</td>\n",
       "      <td>0.00000</td>\n",
       "      <td>0.00000</td>\n",
       "      <td>1.00000</td>\n",
       "      <td>1.00000</td>\n",
       "      <td>1.00000</td>\n",
       "      <td>1.00000</td>\n",
       "      <td>1.00000</td>\n",
       "      <td>1.00000</td>\n",
       "    </tr>\n",
       "    <tr>\n",
       "      <th>year</th>\n",
       "      <td>47880.00000</td>\n",
       "      <td>2022.00000</td>\n",
       "      <td>0.00000</td>\n",
       "      <td>2022.00000</td>\n",
       "      <td>2022.00000</td>\n",
       "      <td>2022.00000</td>\n",
       "      <td>2022.00000</td>\n",
       "      <td>2022.00000</td>\n",
       "      <td>2022.00000</td>\n",
       "      <td>2022.00000</td>\n",
       "      <td>2022.00000</td>\n",
       "      <td>2022.00000</td>\n",
       "      <td>2022.00000</td>\n",
       "      <td>2022.00000</td>\n",
       "      <td>2022.00000</td>\n",
       "      <td>2022.00000</td>\n",
       "      <td>2022.00000</td>\n",
       "      <td>2022.00000</td>\n",
       "      <td>2022.00000</td>\n",
       "      <td>2022.00000</td>\n",
       "    </tr>\n",
       "    <tr>\n",
       "      <th>month</th>\n",
       "      <td>47880.00000</td>\n",
       "      <td>9.00002</td>\n",
       "      <td>0.00457</td>\n",
       "      <td>9.00000</td>\n",
       "      <td>9.00000</td>\n",
       "      <td>9.00000</td>\n",
       "      <td>9.00000</td>\n",
       "      <td>9.00000</td>\n",
       "      <td>9.00000</td>\n",
       "      <td>9.00000</td>\n",
       "      <td>9.00000</td>\n",
       "      <td>9.00000</td>\n",
       "      <td>9.00000</td>\n",
       "      <td>9.00000</td>\n",
       "      <td>9.00000</td>\n",
       "      <td>9.00000</td>\n",
       "      <td>9.00000</td>\n",
       "      <td>9.00000</td>\n",
       "      <td>9.00000</td>\n",
       "      <td>10.00000</td>\n",
       "    </tr>\n",
       "    <tr>\n",
       "      <th>day</th>\n",
       "      <td>47880.00000</td>\n",
       "      <td>2.89002</td>\n",
       "      <td>1.81867</td>\n",
       "      <td>0.00000</td>\n",
       "      <td>0.00000</td>\n",
       "      <td>0.00000</td>\n",
       "      <td>0.00000</td>\n",
       "      <td>0.00000</td>\n",
       "      <td>0.00000</td>\n",
       "      <td>0.00000</td>\n",
       "      <td>1.00000</td>\n",
       "      <td>3.00000</td>\n",
       "      <td>4.00000</td>\n",
       "      <td>5.00000</td>\n",
       "      <td>6.00000</td>\n",
       "      <td>6.00000</td>\n",
       "      <td>6.00000</td>\n",
       "      <td>6.00000</td>\n",
       "      <td>6.00000</td>\n",
       "      <td>6.00000</td>\n",
       "    </tr>\n",
       "    <tr>\n",
       "      <th>hour</th>\n",
       "      <td>47880.00000</td>\n",
       "      <td>14.20572</td>\n",
       "      <td>5.78943</td>\n",
       "      <td>0.00000</td>\n",
       "      <td>0.00000</td>\n",
       "      <td>0.00000</td>\n",
       "      <td>1.00000</td>\n",
       "      <td>1.00000</td>\n",
       "      <td>2.00000</td>\n",
       "      <td>7.00000</td>\n",
       "      <td>10.00000</td>\n",
       "      <td>15.00000</td>\n",
       "      <td>19.00000</td>\n",
       "      <td>21.00000</td>\n",
       "      <td>22.00000</td>\n",
       "      <td>23.00000</td>\n",
       "      <td>23.00000</td>\n",
       "      <td>23.00000</td>\n",
       "      <td>23.00000</td>\n",
       "      <td>23.00000</td>\n",
       "    </tr>\n",
       "    <tr>\n",
       "      <th>minute</th>\n",
       "      <td>47880.00000</td>\n",
       "      <td>29.50982</td>\n",
       "      <td>17.30723</td>\n",
       "      <td>0.00000</td>\n",
       "      <td>0.00000</td>\n",
       "      <td>1.00000</td>\n",
       "      <td>1.00000</td>\n",
       "      <td>2.00000</td>\n",
       "      <td>2.00000</td>\n",
       "      <td>5.00000</td>\n",
       "      <td>15.00000</td>\n",
       "      <td>29.00000</td>\n",
       "      <td>45.00000</td>\n",
       "      <td>53.00000</td>\n",
       "      <td>56.00000</td>\n",
       "      <td>57.00000</td>\n",
       "      <td>58.00000</td>\n",
       "      <td>58.00000</td>\n",
       "      <td>59.00000</td>\n",
       "      <td>59.00000</td>\n",
       "    </tr>\n",
       "    <tr>\n",
       "      <th>day_month</th>\n",
       "      <td>47880.00000</td>\n",
       "      <td>15.78076</td>\n",
       "      <td>8.79109</td>\n",
       "      <td>1.00000</td>\n",
       "      <td>1.00000</td>\n",
       "      <td>1.00000</td>\n",
       "      <td>1.00000</td>\n",
       "      <td>2.00000</td>\n",
       "      <td>2.00000</td>\n",
       "      <td>4.00000</td>\n",
       "      <td>8.00000</td>\n",
       "      <td>15.00000</td>\n",
       "      <td>24.00000</td>\n",
       "      <td>28.00000</td>\n",
       "      <td>29.00000</td>\n",
       "      <td>29.00000</td>\n",
       "      <td>30.00000</td>\n",
       "      <td>30.00000</td>\n",
       "      <td>30.00000</td>\n",
       "      <td>30.00000</td>\n",
       "    </tr>\n",
       "    <tr>\n",
       "      <th>year_drop</th>\n",
       "      <td>47880.00000</td>\n",
       "      <td>2022.00000</td>\n",
       "      <td>0.00000</td>\n",
       "      <td>2022.00000</td>\n",
       "      <td>2022.00000</td>\n",
       "      <td>2022.00000</td>\n",
       "      <td>2022.00000</td>\n",
       "      <td>2022.00000</td>\n",
       "      <td>2022.00000</td>\n",
       "      <td>2022.00000</td>\n",
       "      <td>2022.00000</td>\n",
       "      <td>2022.00000</td>\n",
       "      <td>2022.00000</td>\n",
       "      <td>2022.00000</td>\n",
       "      <td>2022.00000</td>\n",
       "      <td>2022.00000</td>\n",
       "      <td>2022.00000</td>\n",
       "      <td>2022.00000</td>\n",
       "      <td>2022.00000</td>\n",
       "      <td>2022.00000</td>\n",
       "    </tr>\n",
       "    <tr>\n",
       "      <th>month_drop</th>\n",
       "      <td>47880.00000</td>\n",
       "      <td>9.00040</td>\n",
       "      <td>0.01992</td>\n",
       "      <td>9.00000</td>\n",
       "      <td>9.00000</td>\n",
       "      <td>9.00000</td>\n",
       "      <td>9.00000</td>\n",
       "      <td>9.00000</td>\n",
       "      <td>9.00000</td>\n",
       "      <td>9.00000</td>\n",
       "      <td>9.00000</td>\n",
       "      <td>9.00000</td>\n",
       "      <td>9.00000</td>\n",
       "      <td>9.00000</td>\n",
       "      <td>9.00000</td>\n",
       "      <td>9.00000</td>\n",
       "      <td>9.00000</td>\n",
       "      <td>9.00000</td>\n",
       "      <td>9.00000</td>\n",
       "      <td>10.00000</td>\n",
       "    </tr>\n",
       "    <tr>\n",
       "      <th>day_drop</th>\n",
       "      <td>47880.00000</td>\n",
       "      <td>2.89378</td>\n",
       "      <td>1.82047</td>\n",
       "      <td>0.00000</td>\n",
       "      <td>0.00000</td>\n",
       "      <td>0.00000</td>\n",
       "      <td>0.00000</td>\n",
       "      <td>0.00000</td>\n",
       "      <td>0.00000</td>\n",
       "      <td>0.00000</td>\n",
       "      <td>1.00000</td>\n",
       "      <td>3.00000</td>\n",
       "      <td>4.00000</td>\n",
       "      <td>5.00000</td>\n",
       "      <td>6.00000</td>\n",
       "      <td>6.00000</td>\n",
       "      <td>6.00000</td>\n",
       "      <td>6.00000</td>\n",
       "      <td>6.00000</td>\n",
       "      <td>6.00000</td>\n",
       "    </tr>\n",
       "    <tr>\n",
       "      <th>hour_drop</th>\n",
       "      <td>47880.00000</td>\n",
       "      <td>14.26429</td>\n",
       "      <td>5.90437</td>\n",
       "      <td>0.00000</td>\n",
       "      <td>0.00000</td>\n",
       "      <td>0.00000</td>\n",
       "      <td>0.00000</td>\n",
       "      <td>1.00000</td>\n",
       "      <td>1.00000</td>\n",
       "      <td>7.00000</td>\n",
       "      <td>11.00000</td>\n",
       "      <td>15.00000</td>\n",
       "      <td>19.00000</td>\n",
       "      <td>21.00000</td>\n",
       "      <td>22.00000</td>\n",
       "      <td>23.00000</td>\n",
       "      <td>23.00000</td>\n",
       "      <td>23.00000</td>\n",
       "      <td>23.00000</td>\n",
       "      <td>23.00000</td>\n",
       "    </tr>\n",
       "    <tr>\n",
       "      <th>minute_drop</th>\n",
       "      <td>47880.00000</td>\n",
       "      <td>29.52529</td>\n",
       "      <td>17.35456</td>\n",
       "      <td>0.00000</td>\n",
       "      <td>0.00000</td>\n",
       "      <td>1.00000</td>\n",
       "      <td>1.00000</td>\n",
       "      <td>2.00000</td>\n",
       "      <td>2.00000</td>\n",
       "      <td>5.00000</td>\n",
       "      <td>14.00000</td>\n",
       "      <td>30.00000</td>\n",
       "      <td>45.00000</td>\n",
       "      <td>54.00000</td>\n",
       "      <td>57.00000</td>\n",
       "      <td>57.00000</td>\n",
       "      <td>58.00000</td>\n",
       "      <td>58.00000</td>\n",
       "      <td>59.00000</td>\n",
       "      <td>59.00000</td>\n",
       "    </tr>\n",
       "    <tr>\n",
       "      <th>day_month_drop</th>\n",
       "      <td>47880.00000</td>\n",
       "      <td>15.77968</td>\n",
       "      <td>8.79105</td>\n",
       "      <td>1.00000</td>\n",
       "      <td>1.00000</td>\n",
       "      <td>1.00000</td>\n",
       "      <td>1.00000</td>\n",
       "      <td>2.00000</td>\n",
       "      <td>2.00000</td>\n",
       "      <td>4.00000</td>\n",
       "      <td>8.00000</td>\n",
       "      <td>15.00000</td>\n",
       "      <td>24.00000</td>\n",
       "      <td>28.00000</td>\n",
       "      <td>29.00000</td>\n",
       "      <td>29.00000</td>\n",
       "      <td>30.00000</td>\n",
       "      <td>30.00000</td>\n",
       "      <td>30.00000</td>\n",
       "      <td>30.00000</td>\n",
       "    </tr>\n",
       "    <tr>\n",
       "      <th>duration</th>\n",
       "      <td>47880.00000</td>\n",
       "      <td>18.20551</td>\n",
       "      <td>42.34837</td>\n",
       "      <td>0.00000</td>\n",
       "      <td>0.31667</td>\n",
       "      <td>1.91667</td>\n",
       "      <td>2.61667</td>\n",
       "      <td>3.06667</td>\n",
       "      <td>3.45000</td>\n",
       "      <td>4.81667</td>\n",
       "      <td>7.81667</td>\n",
       "      <td>13.13333</td>\n",
       "      <td>21.43333</td>\n",
       "      <td>34.23333</td>\n",
       "      <td>45.55000</td>\n",
       "      <td>49.38333</td>\n",
       "      <td>54.61667</td>\n",
       "      <td>61.60700</td>\n",
       "      <td>72.81667</td>\n",
       "      <td>1439.25000</td>\n",
       "    </tr>\n",
       "    <tr>\n",
       "      <th>is_weekend</th>\n",
       "      <td>47880.00000</td>\n",
       "      <td>0.20982</td>\n",
       "      <td>0.40718</td>\n",
       "      <td>0.00000</td>\n",
       "      <td>0.00000</td>\n",
       "      <td>0.00000</td>\n",
       "      <td>0.00000</td>\n",
       "      <td>0.00000</td>\n",
       "      <td>0.00000</td>\n",
       "      <td>0.00000</td>\n",
       "      <td>0.00000</td>\n",
       "      <td>0.00000</td>\n",
       "      <td>0.00000</td>\n",
       "      <td>1.00000</td>\n",
       "      <td>1.00000</td>\n",
       "      <td>1.00000</td>\n",
       "      <td>1.00000</td>\n",
       "      <td>1.00000</td>\n",
       "      <td>1.00000</td>\n",
       "      <td>1.00000</td>\n",
       "    </tr>\n",
       "  </tbody>\n",
       "</table>\n",
       "</div>"
      ],
      "text/plain": [
       "                             count       mean       std        min         1%  \\\n",
       "passenger_count        47880.00000    1.38569   0.93426    0.00000    0.00000   \n",
       "trip_distance          47880.00000    3.65642   4.70862    0.00000    0.00000   \n",
       "fare_amount            47880.00000   19.50413 856.69362  -61.85000    3.50000   \n",
       "extra                  47880.00000    1.05056   1.25998    0.00000    0.00000   \n",
       "mta_tax                47880.00000    0.49344   0.05971    0.00000    0.00000   \n",
       "tip_amount             47880.00000    2.84177   3.30777    0.00000    0.00000   \n",
       "tolls_amount           47880.00000    0.60260   2.14657    0.00000    0.00000   \n",
       "total_amount           47880.00000   26.53275 856.74585  -63.40000    6.80000   \n",
       "congestion_surcharge   47880.00000    2.29809   0.68157   -2.50000    0.00000   \n",
       "airport_fee            47880.00000    0.11161   0.35663   -1.25000    0.00000   \n",
       "is_pu_do_location_same 47880.00000    0.05002   0.21799    0.00000    0.00000   \n",
       "year                   47880.00000 2022.00000   0.00000 2022.00000 2022.00000   \n",
       "month                  47880.00000    9.00002   0.00457    9.00000    9.00000   \n",
       "day                    47880.00000    2.89002   1.81867    0.00000    0.00000   \n",
       "hour                   47880.00000   14.20572   5.78943    0.00000    0.00000   \n",
       "minute                 47880.00000   29.50982  17.30723    0.00000    0.00000   \n",
       "day_month              47880.00000   15.78076   8.79109    1.00000    1.00000   \n",
       "year_drop              47880.00000 2022.00000   0.00000 2022.00000 2022.00000   \n",
       "month_drop             47880.00000    9.00040   0.01992    9.00000    9.00000   \n",
       "day_drop               47880.00000    2.89378   1.82047    0.00000    0.00000   \n",
       "hour_drop              47880.00000   14.26429   5.90437    0.00000    0.00000   \n",
       "minute_drop            47880.00000   29.52529  17.35456    0.00000    0.00000   \n",
       "day_month_drop         47880.00000   15.77968   8.79105    1.00000    1.00000   \n",
       "duration               47880.00000   18.20551  42.34837    0.00000    0.31667   \n",
       "is_weekend             47880.00000    0.20982   0.40718    0.00000    0.00000   \n",
       "\n",
       "                               2%         3%         4%         5%        10%  \\\n",
       "passenger_count           1.00000    1.00000    1.00000    1.00000    1.00000   \n",
       "trip_distance             0.20000    0.38000    0.45000    0.50000    0.70000   \n",
       "fare_amount               4.00000    4.00000    4.50000    4.50000    5.50000   \n",
       "extra                     0.00000    0.00000    0.00000    0.00000    0.00000   \n",
       "mta_tax                   0.50000    0.50000    0.50000    0.50000    0.50000   \n",
       "tip_amount                0.00000    0.00000    0.00000    0.00000    0.00000   \n",
       "tolls_amount              0.00000    0.00000    0.00000    0.00000    0.00000   \n",
       "total_amount              7.80000    8.30000    8.80000    8.97000   10.14000   \n",
       "congestion_surcharge      0.00000    0.00000    0.00000    0.00000    2.50000   \n",
       "airport_fee               0.00000    0.00000    0.00000    0.00000    0.00000   \n",
       "is_pu_do_location_same    0.00000    0.00000    0.00000    0.00000    0.00000   \n",
       "year                   2022.00000 2022.00000 2022.00000 2022.00000 2022.00000   \n",
       "month                     9.00000    9.00000    9.00000    9.00000    9.00000   \n",
       "day                       0.00000    0.00000    0.00000    0.00000    0.00000   \n",
       "hour                      0.00000    1.00000    1.00000    2.00000    7.00000   \n",
       "minute                    1.00000    1.00000    2.00000    2.00000    5.00000   \n",
       "day_month                 1.00000    1.00000    2.00000    2.00000    4.00000   \n",
       "year_drop              2022.00000 2022.00000 2022.00000 2022.00000 2022.00000   \n",
       "month_drop                9.00000    9.00000    9.00000    9.00000    9.00000   \n",
       "day_drop                  0.00000    0.00000    0.00000    0.00000    0.00000   \n",
       "hour_drop                 0.00000    0.00000    1.00000    1.00000    7.00000   \n",
       "minute_drop               1.00000    1.00000    2.00000    2.00000    5.00000   \n",
       "day_month_drop            1.00000    1.00000    2.00000    2.00000    4.00000   \n",
       "duration                  1.91667    2.61667    3.06667    3.45000    4.81667   \n",
       "is_weekend                0.00000    0.00000    0.00000    0.00000    0.00000   \n",
       "\n",
       "                              25%        50%        75%        90%        95%  \\\n",
       "passenger_count           1.00000    1.00000    1.00000    2.00000    3.00000   \n",
       "trip_distance             1.12000    1.90000    3.69000    9.62000   16.36000   \n",
       "fare_amount               7.50000   10.50000   17.50000   34.00000   52.00000   \n",
       "extra                     0.00000    0.50000    2.50000    3.00000    3.50000   \n",
       "mta_tax                   0.50000    0.50000    0.50000    0.50000    0.50000   \n",
       "tip_amount                1.00000    2.19000    3.46000    6.02000   10.00000   \n",
       "tolls_amount              0.00000    0.00000    0.00000    0.00000    6.55000   \n",
       "total_amount             12.36000   16.55000   23.80000   47.10000   65.52150   \n",
       "congestion_surcharge      2.50000    2.50000    2.50000    2.50000    2.50000   \n",
       "airport_fee               0.00000    0.00000    0.00000    0.00000    1.25000   \n",
       "is_pu_do_location_same    0.00000    0.00000    0.00000    0.00000    1.00000   \n",
       "year                   2022.00000 2022.00000 2022.00000 2022.00000 2022.00000   \n",
       "month                     9.00000    9.00000    9.00000    9.00000    9.00000   \n",
       "day                       1.00000    3.00000    4.00000    5.00000    6.00000   \n",
       "hour                     10.00000   15.00000   19.00000   21.00000   22.00000   \n",
       "minute                   15.00000   29.00000   45.00000   53.00000   56.00000   \n",
       "day_month                 8.00000   15.00000   24.00000   28.00000   29.00000   \n",
       "year_drop              2022.00000 2022.00000 2022.00000 2022.00000 2022.00000   \n",
       "month_drop                9.00000    9.00000    9.00000    9.00000    9.00000   \n",
       "day_drop                  1.00000    3.00000    4.00000    5.00000    6.00000   \n",
       "hour_drop                11.00000   15.00000   19.00000   21.00000   22.00000   \n",
       "minute_drop              14.00000   30.00000   45.00000   54.00000   57.00000   \n",
       "day_month_drop            8.00000   15.00000   24.00000   28.00000   29.00000   \n",
       "duration                  7.81667   13.13333   21.43333   34.23333   45.55000   \n",
       "is_weekend                0.00000    0.00000    0.00000    1.00000    1.00000   \n",
       "\n",
       "                              96%        97%        98%        99%  \\\n",
       "passenger_count           4.00000    4.00000    5.00000    6.00000   \n",
       "trip_distance            17.40000   18.08000   18.89420   20.45210   \n",
       "fare_amount              52.00000   52.00000   52.00000   63.00000   \n",
       "extra                     3.50000    3.50000    3.50000    4.25000   \n",
       "mta_tax                   0.50000    0.50000    0.50000    0.50000   \n",
       "tip_amount               10.84840   12.17000   12.62000   15.00000   \n",
       "tolls_amount              6.55000    6.55000    6.55000    6.55000   \n",
       "total_amount             69.12000   74.20000   75.72000   81.12000   \n",
       "congestion_surcharge      2.50000    2.50000    2.50000    2.50000   \n",
       "airport_fee               1.25000    1.25000    1.25000    1.25000   \n",
       "is_pu_do_location_same    1.00000    1.00000    1.00000    1.00000   \n",
       "year                   2022.00000 2022.00000 2022.00000 2022.00000   \n",
       "month                     9.00000    9.00000    9.00000    9.00000   \n",
       "day                       6.00000    6.00000    6.00000    6.00000   \n",
       "hour                     23.00000   23.00000   23.00000   23.00000   \n",
       "minute                   57.00000   58.00000   58.00000   59.00000   \n",
       "day_month                29.00000   30.00000   30.00000   30.00000   \n",
       "year_drop              2022.00000 2022.00000 2022.00000 2022.00000   \n",
       "month_drop                9.00000    9.00000    9.00000    9.00000   \n",
       "day_drop                  6.00000    6.00000    6.00000    6.00000   \n",
       "hour_drop                23.00000   23.00000   23.00000   23.00000   \n",
       "minute_drop              57.00000   58.00000   58.00000   59.00000   \n",
       "day_month_drop           29.00000   30.00000   30.00000   30.00000   \n",
       "duration                 49.38333   54.61667   61.60700   72.81667   \n",
       "is_weekend                1.00000    1.00000    1.00000    1.00000   \n",
       "\n",
       "                                max  \n",
       "passenger_count             7.00000  \n",
       "trip_distance             173.46000  \n",
       "fare_amount            187444.96000  \n",
       "extra                       8.25000  \n",
       "mta_tax                     2.54000  \n",
       "tip_amount                100.00000  \n",
       "tolls_amount               99.99000  \n",
       "total_amount           187448.26000  \n",
       "congestion_surcharge        2.50000  \n",
       "airport_fee                 1.25000  \n",
       "is_pu_do_location_same      1.00000  \n",
       "year                     2022.00000  \n",
       "month                      10.00000  \n",
       "day                         6.00000  \n",
       "hour                       23.00000  \n",
       "minute                     59.00000  \n",
       "day_month                  30.00000  \n",
       "year_drop                2022.00000  \n",
       "month_drop                 10.00000  \n",
       "day_drop                    6.00000  \n",
       "hour_drop                  23.00000  \n",
       "minute_drop                59.00000  \n",
       "day_month_drop             30.00000  \n",
       "duration                 1439.25000  \n",
       "is_weekend                  1.00000  "
      ]
     },
     "execution_count": 144,
     "metadata": {},
     "output_type": "execute_result"
    }
   ],
   "source": [
    "df.describe(percentiles=[.01,.02,.03,.04,.05,.1,.25,.5,.75,.9,.95,.96,.97,.98,.99]).T"
   ]
  },
  {
   "cell_type": "code",
   "execution_count": 145,
   "id": "d41f7a72",
   "metadata": {},
   "outputs": [],
   "source": [
    "def outliers(x):\n",
    "    x=x.clip(upper=x.quantile(.99))\n",
    "    x=x.clip(lower=x.quantile(.01))\n",
    "    return x"
   ]
  },
  {
   "cell_type": "code",
   "execution_count": 146,
   "id": "5ee0966c",
   "metadata": {},
   "outputs": [],
   "source": [
    "# df.apply(outliers)"
   ]
  },
  {
   "cell_type": "code",
   "execution_count": 147,
   "id": "8608bfed",
   "metadata": {},
   "outputs": [
    {
     "data": {
      "text/plain": [
       "Index(['VendorID', 'RatecodeID', 'store_and_fwd_flag', 'payment_type',\n",
       "       'passenger_cat', 'time', 'time_drop', 'length_duration', 'hour_trip',\n",
       "       'month_cat'],\n",
       "      dtype='object')"
      ]
     },
     "execution_count": 147,
     "metadata": {},
     "output_type": "execute_result"
    }
   ],
   "source": [
    "num=df.dtypes[df.dtypes!=\"object\"].index\n",
    "num\n",
    "obj=df.dtypes[df.dtypes==\"object\"].index\n",
    "obj"
   ]
  },
  {
   "cell_type": "code",
   "execution_count": 148,
   "id": "6c8d28b9",
   "metadata": {},
   "outputs": [],
   "source": [
    "num_data=df[num]\n",
    "obj_data=df[obj]"
   ]
  },
  {
   "cell_type": "code",
   "execution_count": 149,
   "id": "5dede42c",
   "metadata": {},
   "outputs": [],
   "source": [
    "num_data0=num_data.apply(outliers)"
   ]
  },
  {
   "cell_type": "code",
   "execution_count": 150,
   "id": "ccb8c6b0",
   "metadata": {},
   "outputs": [
    {
     "data": {
      "text/html": [
       "<div>\n",
       "<style scoped>\n",
       "    .dataframe tbody tr th:only-of-type {\n",
       "        vertical-align: middle;\n",
       "    }\n",
       "\n",
       "    .dataframe tbody tr th {\n",
       "        vertical-align: top;\n",
       "    }\n",
       "\n",
       "    .dataframe thead th {\n",
       "        text-align: right;\n",
       "    }\n",
       "</style>\n",
       "<table border=\"1\" class=\"dataframe\">\n",
       "  <thead>\n",
       "    <tr style=\"text-align: right;\">\n",
       "      <th></th>\n",
       "      <th>count</th>\n",
       "      <th>mean</th>\n",
       "      <th>std</th>\n",
       "      <th>min</th>\n",
       "      <th>1%</th>\n",
       "      <th>2%</th>\n",
       "      <th>3%</th>\n",
       "      <th>4%</th>\n",
       "      <th>5%</th>\n",
       "      <th>10%</th>\n",
       "      <th>25%</th>\n",
       "      <th>50%</th>\n",
       "      <th>75%</th>\n",
       "      <th>90%</th>\n",
       "      <th>95%</th>\n",
       "      <th>96%</th>\n",
       "      <th>97%</th>\n",
       "      <th>98%</th>\n",
       "      <th>99%</th>\n",
       "      <th>max</th>\n",
       "    </tr>\n",
       "  </thead>\n",
       "  <tbody>\n",
       "    <tr>\n",
       "      <th>passenger_count</th>\n",
       "      <td>47880.00000</td>\n",
       "      <td>1.38565</td>\n",
       "      <td>0.93403</td>\n",
       "      <td>0.00000</td>\n",
       "      <td>0.00000</td>\n",
       "      <td>1.00000</td>\n",
       "      <td>1.00000</td>\n",
       "      <td>1.00000</td>\n",
       "      <td>1.00000</td>\n",
       "      <td>1.00000</td>\n",
       "      <td>1.00000</td>\n",
       "      <td>1.00000</td>\n",
       "      <td>1.00000</td>\n",
       "      <td>2.00000</td>\n",
       "      <td>3.00000</td>\n",
       "      <td>4.00000</td>\n",
       "      <td>4.00000</td>\n",
       "      <td>5.00000</td>\n",
       "      <td>6.00000</td>\n",
       "      <td>6.00000</td>\n",
       "    </tr>\n",
       "    <tr>\n",
       "      <th>trip_distance</th>\n",
       "      <td>47880.00000</td>\n",
       "      <td>3.61719</td>\n",
       "      <td>4.45763</td>\n",
       "      <td>0.00000</td>\n",
       "      <td>0.00000</td>\n",
       "      <td>0.20000</td>\n",
       "      <td>0.38000</td>\n",
       "      <td>0.45000</td>\n",
       "      <td>0.50000</td>\n",
       "      <td>0.70000</td>\n",
       "      <td>1.12000</td>\n",
       "      <td>1.90000</td>\n",
       "      <td>3.69000</td>\n",
       "      <td>9.62000</td>\n",
       "      <td>16.36000</td>\n",
       "      <td>17.40000</td>\n",
       "      <td>18.08000</td>\n",
       "      <td>18.89420</td>\n",
       "      <td>20.45044</td>\n",
       "      <td>20.45210</td>\n",
       "    </tr>\n",
       "    <tr>\n",
       "      <th>fare_amount</th>\n",
       "      <td>47880.00000</td>\n",
       "      <td>15.37667</td>\n",
       "      <td>12.98603</td>\n",
       "      <td>3.50000</td>\n",
       "      <td>3.50000</td>\n",
       "      <td>4.00000</td>\n",
       "      <td>4.00000</td>\n",
       "      <td>4.50000</td>\n",
       "      <td>4.50000</td>\n",
       "      <td>5.50000</td>\n",
       "      <td>7.50000</td>\n",
       "      <td>10.50000</td>\n",
       "      <td>17.50000</td>\n",
       "      <td>34.00000</td>\n",
       "      <td>52.00000</td>\n",
       "      <td>52.00000</td>\n",
       "      <td>52.00000</td>\n",
       "      <td>52.00000</td>\n",
       "      <td>63.00000</td>\n",
       "      <td>63.00000</td>\n",
       "    </tr>\n",
       "    <tr>\n",
       "      <th>extra</th>\n",
       "      <td>47880.00000</td>\n",
       "      <td>1.04182</td>\n",
       "      <td>1.22762</td>\n",
       "      <td>0.00000</td>\n",
       "      <td>0.00000</td>\n",
       "      <td>0.00000</td>\n",
       "      <td>0.00000</td>\n",
       "      <td>0.00000</td>\n",
       "      <td>0.00000</td>\n",
       "      <td>0.00000</td>\n",
       "      <td>0.00000</td>\n",
       "      <td>0.50000</td>\n",
       "      <td>2.50000</td>\n",
       "      <td>3.00000</td>\n",
       "      <td>3.50000</td>\n",
       "      <td>3.50000</td>\n",
       "      <td>3.50000</td>\n",
       "      <td>3.50000</td>\n",
       "      <td>4.25000</td>\n",
       "      <td>4.25000</td>\n",
       "    </tr>\n",
       "    <tr>\n",
       "      <th>mta_tax</th>\n",
       "      <td>47880.00000</td>\n",
       "      <td>0.49331</td>\n",
       "      <td>0.05746</td>\n",
       "      <td>0.00000</td>\n",
       "      <td>0.00000</td>\n",
       "      <td>0.50000</td>\n",
       "      <td>0.50000</td>\n",
       "      <td>0.50000</td>\n",
       "      <td>0.50000</td>\n",
       "      <td>0.50000</td>\n",
       "      <td>0.50000</td>\n",
       "      <td>0.50000</td>\n",
       "      <td>0.50000</td>\n",
       "      <td>0.50000</td>\n",
       "      <td>0.50000</td>\n",
       "      <td>0.50000</td>\n",
       "      <td>0.50000</td>\n",
       "      <td>0.50000</td>\n",
       "      <td>0.50000</td>\n",
       "      <td>0.50000</td>\n",
       "    </tr>\n",
       "    <tr>\n",
       "      <th>tip_amount</th>\n",
       "      <td>47880.00000</td>\n",
       "      <td>2.79801</td>\n",
       "      <td>2.98827</td>\n",
       "      <td>0.00000</td>\n",
       "      <td>0.00000</td>\n",
       "      <td>0.00000</td>\n",
       "      <td>0.00000</td>\n",
       "      <td>0.00000</td>\n",
       "      <td>0.00000</td>\n",
       "      <td>0.00000</td>\n",
       "      <td>1.00000</td>\n",
       "      <td>2.19000</td>\n",
       "      <td>3.46000</td>\n",
       "      <td>6.02000</td>\n",
       "      <td>10.00000</td>\n",
       "      <td>10.84840</td>\n",
       "      <td>12.17000</td>\n",
       "      <td>12.62000</td>\n",
       "      <td>15.00000</td>\n",
       "      <td>15.00000</td>\n",
       "    </tr>\n",
       "    <tr>\n",
       "      <th>tolls_amount</th>\n",
       "      <td>47880.00000</td>\n",
       "      <td>0.55517</td>\n",
       "      <td>1.82223</td>\n",
       "      <td>0.00000</td>\n",
       "      <td>0.00000</td>\n",
       "      <td>0.00000</td>\n",
       "      <td>0.00000</td>\n",
       "      <td>0.00000</td>\n",
       "      <td>0.00000</td>\n",
       "      <td>0.00000</td>\n",
       "      <td>0.00000</td>\n",
       "      <td>0.00000</td>\n",
       "      <td>0.00000</td>\n",
       "      <td>0.00000</td>\n",
       "      <td>6.55000</td>\n",
       "      <td>6.55000</td>\n",
       "      <td>6.55000</td>\n",
       "      <td>6.55000</td>\n",
       "      <td>6.55000</td>\n",
       "      <td>6.55000</td>\n",
       "    </tr>\n",
       "    <tr>\n",
       "      <th>total_amount</th>\n",
       "      <td>47880.00000</td>\n",
       "      <td>22.38027</td>\n",
       "      <td>16.51469</td>\n",
       "      <td>6.80000</td>\n",
       "      <td>6.80000</td>\n",
       "      <td>7.80000</td>\n",
       "      <td>8.30000</td>\n",
       "      <td>8.80000</td>\n",
       "      <td>8.97000</td>\n",
       "      <td>10.14000</td>\n",
       "      <td>12.36000</td>\n",
       "      <td>16.55000</td>\n",
       "      <td>23.80000</td>\n",
       "      <td>47.10000</td>\n",
       "      <td>65.52150</td>\n",
       "      <td>69.12000</td>\n",
       "      <td>74.20000</td>\n",
       "      <td>75.72000</td>\n",
       "      <td>81.12000</td>\n",
       "      <td>81.12000</td>\n",
       "    </tr>\n",
       "    <tr>\n",
       "      <th>congestion_surcharge</th>\n",
       "      <td>47880.00000</td>\n",
       "      <td>2.29819</td>\n",
       "      <td>0.68103</td>\n",
       "      <td>0.00000</td>\n",
       "      <td>0.00000</td>\n",
       "      <td>0.00000</td>\n",
       "      <td>0.00000</td>\n",
       "      <td>0.00000</td>\n",
       "      <td>0.00000</td>\n",
       "      <td>2.50000</td>\n",
       "      <td>2.50000</td>\n",
       "      <td>2.50000</td>\n",
       "      <td>2.50000</td>\n",
       "      <td>2.50000</td>\n",
       "      <td>2.50000</td>\n",
       "      <td>2.50000</td>\n",
       "      <td>2.50000</td>\n",
       "      <td>2.50000</td>\n",
       "      <td>2.50000</td>\n",
       "      <td>2.50000</td>\n",
       "    </tr>\n",
       "    <tr>\n",
       "      <th>airport_fee</th>\n",
       "      <td>47880.00000</td>\n",
       "      <td>0.11166</td>\n",
       "      <td>0.35652</td>\n",
       "      <td>0.00000</td>\n",
       "      <td>0.00000</td>\n",
       "      <td>0.00000</td>\n",
       "      <td>0.00000</td>\n",
       "      <td>0.00000</td>\n",
       "      <td>0.00000</td>\n",
       "      <td>0.00000</td>\n",
       "      <td>0.00000</td>\n",
       "      <td>0.00000</td>\n",
       "      <td>0.00000</td>\n",
       "      <td>0.00000</td>\n",
       "      <td>1.25000</td>\n",
       "      <td>1.25000</td>\n",
       "      <td>1.25000</td>\n",
       "      <td>1.25000</td>\n",
       "      <td>1.25000</td>\n",
       "      <td>1.25000</td>\n",
       "    </tr>\n",
       "    <tr>\n",
       "      <th>is_pu_do_location_same</th>\n",
       "      <td>47880.00000</td>\n",
       "      <td>0.05002</td>\n",
       "      <td>0.21799</td>\n",
       "      <td>0.00000</td>\n",
       "      <td>0.00000</td>\n",
       "      <td>0.00000</td>\n",
       "      <td>0.00000</td>\n",
       "      <td>0.00000</td>\n",
       "      <td>0.00000</td>\n",
       "      <td>0.00000</td>\n",
       "      <td>0.00000</td>\n",
       "      <td>0.00000</td>\n",
       "      <td>0.00000</td>\n",
       "      <td>0.00000</td>\n",
       "      <td>1.00000</td>\n",
       "      <td>1.00000</td>\n",
       "      <td>1.00000</td>\n",
       "      <td>1.00000</td>\n",
       "      <td>1.00000</td>\n",
       "      <td>1.00000</td>\n",
       "    </tr>\n",
       "    <tr>\n",
       "      <th>year</th>\n",
       "      <td>47880.00000</td>\n",
       "      <td>2022.00000</td>\n",
       "      <td>0.00000</td>\n",
       "      <td>2022.00000</td>\n",
       "      <td>2022.00000</td>\n",
       "      <td>2022.00000</td>\n",
       "      <td>2022.00000</td>\n",
       "      <td>2022.00000</td>\n",
       "      <td>2022.00000</td>\n",
       "      <td>2022.00000</td>\n",
       "      <td>2022.00000</td>\n",
       "      <td>2022.00000</td>\n",
       "      <td>2022.00000</td>\n",
       "      <td>2022.00000</td>\n",
       "      <td>2022.00000</td>\n",
       "      <td>2022.00000</td>\n",
       "      <td>2022.00000</td>\n",
       "      <td>2022.00000</td>\n",
       "      <td>2022.00000</td>\n",
       "      <td>2022.00000</td>\n",
       "    </tr>\n",
       "    <tr>\n",
       "      <th>month</th>\n",
       "      <td>47880.00000</td>\n",
       "      <td>9.00000</td>\n",
       "      <td>0.00000</td>\n",
       "      <td>9.00000</td>\n",
       "      <td>9.00000</td>\n",
       "      <td>9.00000</td>\n",
       "      <td>9.00000</td>\n",
       "      <td>9.00000</td>\n",
       "      <td>9.00000</td>\n",
       "      <td>9.00000</td>\n",
       "      <td>9.00000</td>\n",
       "      <td>9.00000</td>\n",
       "      <td>9.00000</td>\n",
       "      <td>9.00000</td>\n",
       "      <td>9.00000</td>\n",
       "      <td>9.00000</td>\n",
       "      <td>9.00000</td>\n",
       "      <td>9.00000</td>\n",
       "      <td>9.00000</td>\n",
       "      <td>9.00000</td>\n",
       "    </tr>\n",
       "    <tr>\n",
       "      <th>day</th>\n",
       "      <td>47880.00000</td>\n",
       "      <td>2.89002</td>\n",
       "      <td>1.81867</td>\n",
       "      <td>0.00000</td>\n",
       "      <td>0.00000</td>\n",
       "      <td>0.00000</td>\n",
       "      <td>0.00000</td>\n",
       "      <td>0.00000</td>\n",
       "      <td>0.00000</td>\n",
       "      <td>0.00000</td>\n",
       "      <td>1.00000</td>\n",
       "      <td>3.00000</td>\n",
       "      <td>4.00000</td>\n",
       "      <td>5.00000</td>\n",
       "      <td>6.00000</td>\n",
       "      <td>6.00000</td>\n",
       "      <td>6.00000</td>\n",
       "      <td>6.00000</td>\n",
       "      <td>6.00000</td>\n",
       "      <td>6.00000</td>\n",
       "    </tr>\n",
       "    <tr>\n",
       "      <th>hour</th>\n",
       "      <td>47880.00000</td>\n",
       "      <td>14.20572</td>\n",
       "      <td>5.78943</td>\n",
       "      <td>0.00000</td>\n",
       "      <td>0.00000</td>\n",
       "      <td>0.00000</td>\n",
       "      <td>1.00000</td>\n",
       "      <td>1.00000</td>\n",
       "      <td>2.00000</td>\n",
       "      <td>7.00000</td>\n",
       "      <td>10.00000</td>\n",
       "      <td>15.00000</td>\n",
       "      <td>19.00000</td>\n",
       "      <td>21.00000</td>\n",
       "      <td>22.00000</td>\n",
       "      <td>23.00000</td>\n",
       "      <td>23.00000</td>\n",
       "      <td>23.00000</td>\n",
       "      <td>23.00000</td>\n",
       "      <td>23.00000</td>\n",
       "    </tr>\n",
       "    <tr>\n",
       "      <th>minute</th>\n",
       "      <td>47880.00000</td>\n",
       "      <td>29.50982</td>\n",
       "      <td>17.30723</td>\n",
       "      <td>0.00000</td>\n",
       "      <td>0.00000</td>\n",
       "      <td>1.00000</td>\n",
       "      <td>1.00000</td>\n",
       "      <td>2.00000</td>\n",
       "      <td>2.00000</td>\n",
       "      <td>5.00000</td>\n",
       "      <td>15.00000</td>\n",
       "      <td>29.00000</td>\n",
       "      <td>45.00000</td>\n",
       "      <td>53.00000</td>\n",
       "      <td>56.00000</td>\n",
       "      <td>57.00000</td>\n",
       "      <td>58.00000</td>\n",
       "      <td>58.00000</td>\n",
       "      <td>59.00000</td>\n",
       "      <td>59.00000</td>\n",
       "    </tr>\n",
       "    <tr>\n",
       "      <th>day_month</th>\n",
       "      <td>47880.00000</td>\n",
       "      <td>15.78076</td>\n",
       "      <td>8.79109</td>\n",
       "      <td>1.00000</td>\n",
       "      <td>1.00000</td>\n",
       "      <td>1.00000</td>\n",
       "      <td>1.00000</td>\n",
       "      <td>2.00000</td>\n",
       "      <td>2.00000</td>\n",
       "      <td>4.00000</td>\n",
       "      <td>8.00000</td>\n",
       "      <td>15.00000</td>\n",
       "      <td>24.00000</td>\n",
       "      <td>28.00000</td>\n",
       "      <td>29.00000</td>\n",
       "      <td>29.00000</td>\n",
       "      <td>30.00000</td>\n",
       "      <td>30.00000</td>\n",
       "      <td>30.00000</td>\n",
       "      <td>30.00000</td>\n",
       "    </tr>\n",
       "    <tr>\n",
       "      <th>year_drop</th>\n",
       "      <td>47880.00000</td>\n",
       "      <td>2022.00000</td>\n",
       "      <td>0.00000</td>\n",
       "      <td>2022.00000</td>\n",
       "      <td>2022.00000</td>\n",
       "      <td>2022.00000</td>\n",
       "      <td>2022.00000</td>\n",
       "      <td>2022.00000</td>\n",
       "      <td>2022.00000</td>\n",
       "      <td>2022.00000</td>\n",
       "      <td>2022.00000</td>\n",
       "      <td>2022.00000</td>\n",
       "      <td>2022.00000</td>\n",
       "      <td>2022.00000</td>\n",
       "      <td>2022.00000</td>\n",
       "      <td>2022.00000</td>\n",
       "      <td>2022.00000</td>\n",
       "      <td>2022.00000</td>\n",
       "      <td>2022.00000</td>\n",
       "      <td>2022.00000</td>\n",
       "    </tr>\n",
       "    <tr>\n",
       "      <th>month_drop</th>\n",
       "      <td>47880.00000</td>\n",
       "      <td>9.00000</td>\n",
       "      <td>0.00000</td>\n",
       "      <td>9.00000</td>\n",
       "      <td>9.00000</td>\n",
       "      <td>9.00000</td>\n",
       "      <td>9.00000</td>\n",
       "      <td>9.00000</td>\n",
       "      <td>9.00000</td>\n",
       "      <td>9.00000</td>\n",
       "      <td>9.00000</td>\n",
       "      <td>9.00000</td>\n",
       "      <td>9.00000</td>\n",
       "      <td>9.00000</td>\n",
       "      <td>9.00000</td>\n",
       "      <td>9.00000</td>\n",
       "      <td>9.00000</td>\n",
       "      <td>9.00000</td>\n",
       "      <td>9.00000</td>\n",
       "      <td>9.00000</td>\n",
       "    </tr>\n",
       "    <tr>\n",
       "      <th>day_drop</th>\n",
       "      <td>47880.00000</td>\n",
       "      <td>2.89378</td>\n",
       "      <td>1.82047</td>\n",
       "      <td>0.00000</td>\n",
       "      <td>0.00000</td>\n",
       "      <td>0.00000</td>\n",
       "      <td>0.00000</td>\n",
       "      <td>0.00000</td>\n",
       "      <td>0.00000</td>\n",
       "      <td>0.00000</td>\n",
       "      <td>1.00000</td>\n",
       "      <td>3.00000</td>\n",
       "      <td>4.00000</td>\n",
       "      <td>5.00000</td>\n",
       "      <td>6.00000</td>\n",
       "      <td>6.00000</td>\n",
       "      <td>6.00000</td>\n",
       "      <td>6.00000</td>\n",
       "      <td>6.00000</td>\n",
       "      <td>6.00000</td>\n",
       "    </tr>\n",
       "    <tr>\n",
       "      <th>hour_drop</th>\n",
       "      <td>47880.00000</td>\n",
       "      <td>14.26429</td>\n",
       "      <td>5.90437</td>\n",
       "      <td>0.00000</td>\n",
       "      <td>0.00000</td>\n",
       "      <td>0.00000</td>\n",
       "      <td>0.00000</td>\n",
       "      <td>1.00000</td>\n",
       "      <td>1.00000</td>\n",
       "      <td>7.00000</td>\n",
       "      <td>11.00000</td>\n",
       "      <td>15.00000</td>\n",
       "      <td>19.00000</td>\n",
       "      <td>21.00000</td>\n",
       "      <td>22.00000</td>\n",
       "      <td>23.00000</td>\n",
       "      <td>23.00000</td>\n",
       "      <td>23.00000</td>\n",
       "      <td>23.00000</td>\n",
       "      <td>23.00000</td>\n",
       "    </tr>\n",
       "    <tr>\n",
       "      <th>minute_drop</th>\n",
       "      <td>47880.00000</td>\n",
       "      <td>29.52529</td>\n",
       "      <td>17.35456</td>\n",
       "      <td>0.00000</td>\n",
       "      <td>0.00000</td>\n",
       "      <td>1.00000</td>\n",
       "      <td>1.00000</td>\n",
       "      <td>2.00000</td>\n",
       "      <td>2.00000</td>\n",
       "      <td>5.00000</td>\n",
       "      <td>14.00000</td>\n",
       "      <td>30.00000</td>\n",
       "      <td>45.00000</td>\n",
       "      <td>54.00000</td>\n",
       "      <td>57.00000</td>\n",
       "      <td>57.00000</td>\n",
       "      <td>58.00000</td>\n",
       "      <td>58.00000</td>\n",
       "      <td>59.00000</td>\n",
       "      <td>59.00000</td>\n",
       "    </tr>\n",
       "    <tr>\n",
       "      <th>day_month_drop</th>\n",
       "      <td>47880.00000</td>\n",
       "      <td>15.77968</td>\n",
       "      <td>8.79105</td>\n",
       "      <td>1.00000</td>\n",
       "      <td>1.00000</td>\n",
       "      <td>1.00000</td>\n",
       "      <td>1.00000</td>\n",
       "      <td>2.00000</td>\n",
       "      <td>2.00000</td>\n",
       "      <td>4.00000</td>\n",
       "      <td>8.00000</td>\n",
       "      <td>15.00000</td>\n",
       "      <td>24.00000</td>\n",
       "      <td>28.00000</td>\n",
       "      <td>29.00000</td>\n",
       "      <td>29.00000</td>\n",
       "      <td>30.00000</td>\n",
       "      <td>30.00000</td>\n",
       "      <td>30.00000</td>\n",
       "      <td>30.00000</td>\n",
       "    </tr>\n",
       "    <tr>\n",
       "      <th>duration</th>\n",
       "      <td>47880.00000</td>\n",
       "      <td>16.96892</td>\n",
       "      <td>13.57278</td>\n",
       "      <td>0.31667</td>\n",
       "      <td>0.31667</td>\n",
       "      <td>1.91667</td>\n",
       "      <td>2.61667</td>\n",
       "      <td>3.06667</td>\n",
       "      <td>3.45000</td>\n",
       "      <td>4.81667</td>\n",
       "      <td>7.81667</td>\n",
       "      <td>13.13333</td>\n",
       "      <td>21.43333</td>\n",
       "      <td>34.23333</td>\n",
       "      <td>45.55000</td>\n",
       "      <td>49.38333</td>\n",
       "      <td>54.61667</td>\n",
       "      <td>61.60700</td>\n",
       "      <td>72.81667</td>\n",
       "      <td>72.81667</td>\n",
       "    </tr>\n",
       "    <tr>\n",
       "      <th>is_weekend</th>\n",
       "      <td>47880.00000</td>\n",
       "      <td>0.20982</td>\n",
       "      <td>0.40718</td>\n",
       "      <td>0.00000</td>\n",
       "      <td>0.00000</td>\n",
       "      <td>0.00000</td>\n",
       "      <td>0.00000</td>\n",
       "      <td>0.00000</td>\n",
       "      <td>0.00000</td>\n",
       "      <td>0.00000</td>\n",
       "      <td>0.00000</td>\n",
       "      <td>0.00000</td>\n",
       "      <td>0.00000</td>\n",
       "      <td>1.00000</td>\n",
       "      <td>1.00000</td>\n",
       "      <td>1.00000</td>\n",
       "      <td>1.00000</td>\n",
       "      <td>1.00000</td>\n",
       "      <td>1.00000</td>\n",
       "      <td>1.00000</td>\n",
       "    </tr>\n",
       "  </tbody>\n",
       "</table>\n",
       "</div>"
      ],
      "text/plain": [
       "                             count       mean      std        min         1%  \\\n",
       "passenger_count        47880.00000    1.38565  0.93403    0.00000    0.00000   \n",
       "trip_distance          47880.00000    3.61719  4.45763    0.00000    0.00000   \n",
       "fare_amount            47880.00000   15.37667 12.98603    3.50000    3.50000   \n",
       "extra                  47880.00000    1.04182  1.22762    0.00000    0.00000   \n",
       "mta_tax                47880.00000    0.49331  0.05746    0.00000    0.00000   \n",
       "tip_amount             47880.00000    2.79801  2.98827    0.00000    0.00000   \n",
       "tolls_amount           47880.00000    0.55517  1.82223    0.00000    0.00000   \n",
       "total_amount           47880.00000   22.38027 16.51469    6.80000    6.80000   \n",
       "congestion_surcharge   47880.00000    2.29819  0.68103    0.00000    0.00000   \n",
       "airport_fee            47880.00000    0.11166  0.35652    0.00000    0.00000   \n",
       "is_pu_do_location_same 47880.00000    0.05002  0.21799    0.00000    0.00000   \n",
       "year                   47880.00000 2022.00000  0.00000 2022.00000 2022.00000   \n",
       "month                  47880.00000    9.00000  0.00000    9.00000    9.00000   \n",
       "day                    47880.00000    2.89002  1.81867    0.00000    0.00000   \n",
       "hour                   47880.00000   14.20572  5.78943    0.00000    0.00000   \n",
       "minute                 47880.00000   29.50982 17.30723    0.00000    0.00000   \n",
       "day_month              47880.00000   15.78076  8.79109    1.00000    1.00000   \n",
       "year_drop              47880.00000 2022.00000  0.00000 2022.00000 2022.00000   \n",
       "month_drop             47880.00000    9.00000  0.00000    9.00000    9.00000   \n",
       "day_drop               47880.00000    2.89378  1.82047    0.00000    0.00000   \n",
       "hour_drop              47880.00000   14.26429  5.90437    0.00000    0.00000   \n",
       "minute_drop            47880.00000   29.52529 17.35456    0.00000    0.00000   \n",
       "day_month_drop         47880.00000   15.77968  8.79105    1.00000    1.00000   \n",
       "duration               47880.00000   16.96892 13.57278    0.31667    0.31667   \n",
       "is_weekend             47880.00000    0.20982  0.40718    0.00000    0.00000   \n",
       "\n",
       "                               2%         3%         4%         5%        10%  \\\n",
       "passenger_count           1.00000    1.00000    1.00000    1.00000    1.00000   \n",
       "trip_distance             0.20000    0.38000    0.45000    0.50000    0.70000   \n",
       "fare_amount               4.00000    4.00000    4.50000    4.50000    5.50000   \n",
       "extra                     0.00000    0.00000    0.00000    0.00000    0.00000   \n",
       "mta_tax                   0.50000    0.50000    0.50000    0.50000    0.50000   \n",
       "tip_amount                0.00000    0.00000    0.00000    0.00000    0.00000   \n",
       "tolls_amount              0.00000    0.00000    0.00000    0.00000    0.00000   \n",
       "total_amount              7.80000    8.30000    8.80000    8.97000   10.14000   \n",
       "congestion_surcharge      0.00000    0.00000    0.00000    0.00000    2.50000   \n",
       "airport_fee               0.00000    0.00000    0.00000    0.00000    0.00000   \n",
       "is_pu_do_location_same    0.00000    0.00000    0.00000    0.00000    0.00000   \n",
       "year                   2022.00000 2022.00000 2022.00000 2022.00000 2022.00000   \n",
       "month                     9.00000    9.00000    9.00000    9.00000    9.00000   \n",
       "day                       0.00000    0.00000    0.00000    0.00000    0.00000   \n",
       "hour                      0.00000    1.00000    1.00000    2.00000    7.00000   \n",
       "minute                    1.00000    1.00000    2.00000    2.00000    5.00000   \n",
       "day_month                 1.00000    1.00000    2.00000    2.00000    4.00000   \n",
       "year_drop              2022.00000 2022.00000 2022.00000 2022.00000 2022.00000   \n",
       "month_drop                9.00000    9.00000    9.00000    9.00000    9.00000   \n",
       "day_drop                  0.00000    0.00000    0.00000    0.00000    0.00000   \n",
       "hour_drop                 0.00000    0.00000    1.00000    1.00000    7.00000   \n",
       "minute_drop               1.00000    1.00000    2.00000    2.00000    5.00000   \n",
       "day_month_drop            1.00000    1.00000    2.00000    2.00000    4.00000   \n",
       "duration                  1.91667    2.61667    3.06667    3.45000    4.81667   \n",
       "is_weekend                0.00000    0.00000    0.00000    0.00000    0.00000   \n",
       "\n",
       "                              25%        50%        75%        90%        95%  \\\n",
       "passenger_count           1.00000    1.00000    1.00000    2.00000    3.00000   \n",
       "trip_distance             1.12000    1.90000    3.69000    9.62000   16.36000   \n",
       "fare_amount               7.50000   10.50000   17.50000   34.00000   52.00000   \n",
       "extra                     0.00000    0.50000    2.50000    3.00000    3.50000   \n",
       "mta_tax                   0.50000    0.50000    0.50000    0.50000    0.50000   \n",
       "tip_amount                1.00000    2.19000    3.46000    6.02000   10.00000   \n",
       "tolls_amount              0.00000    0.00000    0.00000    0.00000    6.55000   \n",
       "total_amount             12.36000   16.55000   23.80000   47.10000   65.52150   \n",
       "congestion_surcharge      2.50000    2.50000    2.50000    2.50000    2.50000   \n",
       "airport_fee               0.00000    0.00000    0.00000    0.00000    1.25000   \n",
       "is_pu_do_location_same    0.00000    0.00000    0.00000    0.00000    1.00000   \n",
       "year                   2022.00000 2022.00000 2022.00000 2022.00000 2022.00000   \n",
       "month                     9.00000    9.00000    9.00000    9.00000    9.00000   \n",
       "day                       1.00000    3.00000    4.00000    5.00000    6.00000   \n",
       "hour                     10.00000   15.00000   19.00000   21.00000   22.00000   \n",
       "minute                   15.00000   29.00000   45.00000   53.00000   56.00000   \n",
       "day_month                 8.00000   15.00000   24.00000   28.00000   29.00000   \n",
       "year_drop              2022.00000 2022.00000 2022.00000 2022.00000 2022.00000   \n",
       "month_drop                9.00000    9.00000    9.00000    9.00000    9.00000   \n",
       "day_drop                  1.00000    3.00000    4.00000    5.00000    6.00000   \n",
       "hour_drop                11.00000   15.00000   19.00000   21.00000   22.00000   \n",
       "minute_drop              14.00000   30.00000   45.00000   54.00000   57.00000   \n",
       "day_month_drop            8.00000   15.00000   24.00000   28.00000   29.00000   \n",
       "duration                  7.81667   13.13333   21.43333   34.23333   45.55000   \n",
       "is_weekend                0.00000    0.00000    0.00000    1.00000    1.00000   \n",
       "\n",
       "                              96%        97%        98%        99%        max  \n",
       "passenger_count           4.00000    4.00000    5.00000    6.00000    6.00000  \n",
       "trip_distance            17.40000   18.08000   18.89420   20.45044   20.45210  \n",
       "fare_amount              52.00000   52.00000   52.00000   63.00000   63.00000  \n",
       "extra                     3.50000    3.50000    3.50000    4.25000    4.25000  \n",
       "mta_tax                   0.50000    0.50000    0.50000    0.50000    0.50000  \n",
       "tip_amount               10.84840   12.17000   12.62000   15.00000   15.00000  \n",
       "tolls_amount              6.55000    6.55000    6.55000    6.55000    6.55000  \n",
       "total_amount             69.12000   74.20000   75.72000   81.12000   81.12000  \n",
       "congestion_surcharge      2.50000    2.50000    2.50000    2.50000    2.50000  \n",
       "airport_fee               1.25000    1.25000    1.25000    1.25000    1.25000  \n",
       "is_pu_do_location_same    1.00000    1.00000    1.00000    1.00000    1.00000  \n",
       "year                   2022.00000 2022.00000 2022.00000 2022.00000 2022.00000  \n",
       "month                     9.00000    9.00000    9.00000    9.00000    9.00000  \n",
       "day                       6.00000    6.00000    6.00000    6.00000    6.00000  \n",
       "hour                     23.00000   23.00000   23.00000   23.00000   23.00000  \n",
       "minute                   57.00000   58.00000   58.00000   59.00000   59.00000  \n",
       "day_month                29.00000   30.00000   30.00000   30.00000   30.00000  \n",
       "year_drop              2022.00000 2022.00000 2022.00000 2022.00000 2022.00000  \n",
       "month_drop                9.00000    9.00000    9.00000    9.00000    9.00000  \n",
       "day_drop                  6.00000    6.00000    6.00000    6.00000    6.00000  \n",
       "hour_drop                23.00000   23.00000   23.00000   23.00000   23.00000  \n",
       "minute_drop              57.00000   58.00000   58.00000   59.00000   59.00000  \n",
       "day_month_drop           29.00000   30.00000   30.00000   30.00000   30.00000  \n",
       "duration                 49.38333   54.61667   61.60700   72.81667   72.81667  \n",
       "is_weekend                1.00000    1.00000    1.00000    1.00000    1.00000  "
      ]
     },
     "execution_count": 150,
     "metadata": {},
     "output_type": "execute_result"
    }
   ],
   "source": [
    "num_data0.describe(percentiles=[.01,.02,.03,.04,.05,.1,.25,.5,.75,.9,.95,.96,.97,.98,.99]).T"
   ]
  },
  {
   "cell_type": "code",
   "execution_count": 157,
   "id": "a3f5d01e",
   "metadata": {},
   "outputs": [
    {
     "data": {
      "text/plain": [
       "(47880, 35)"
      ]
     },
     "execution_count": 157,
     "metadata": {},
     "output_type": "execute_result"
    }
   ],
   "source": [
    "all_df=pd.concat([obj_data, num_data0], axis=1)\n",
    "all_df.shape"
   ]
  },
  {
   "cell_type": "code",
   "execution_count": 159,
   "id": "43c1120b",
   "metadata": {},
   "outputs": [
    {
     "data": {
      "text/plain": [
       "VendorID              object\n",
       "RatecodeID            object\n",
       "store_and_fwd_flag    object\n",
       "payment_type          object\n",
       "passenger_cat         object\n",
       "time                  object\n",
       "time_drop             object\n",
       "length_duration       object\n",
       "hour_trip             object\n",
       "month_cat             object\n",
       "dtype: object"
      ]
     },
     "execution_count": 159,
     "metadata": {},
     "output_type": "execute_result"
    }
   ],
   "source": [
    "all_df.dtypes[all_df.dtypes==\"object\"]"
   ]
  },
  {
   "cell_type": "code",
   "execution_count": 160,
   "id": "c9badd63",
   "metadata": {},
   "outputs": [],
   "source": [
    "all_df.drop(columns=[\"time\", \"time_drop\"], inplace=True)"
   ]
  },
  {
   "cell_type": "code",
   "execution_count": 161,
   "id": "2d999a18",
   "metadata": {},
   "outputs": [
    {
     "data": {
      "text/plain": [
       "Index(['VendorID', 'RatecodeID', 'store_and_fwd_flag', 'payment_type',\n",
       "       'passenger_cat', 'length_duration', 'hour_trip', 'month_cat'],\n",
       "      dtype='object')"
      ]
     },
     "execution_count": 161,
     "metadata": {},
     "output_type": "execute_result"
    }
   ],
   "source": [
    "all_df.dtypes[all_df.dtypes==\"object\"].index"
   ]
  },
  {
   "cell_type": "code",
   "execution_count": 162,
   "id": "eadb5b34",
   "metadata": {},
   "outputs": [],
   "source": [
    "all_df=pd.get_dummies(all_df, drop_first=True)"
   ]
  },
  {
   "cell_type": "code",
   "execution_count": 163,
   "id": "3e810974",
   "metadata": {},
   "outputs": [
    {
     "data": {
      "text/plain": [
       "(47880, 46)"
      ]
     },
     "execution_count": 163,
     "metadata": {},
     "output_type": "execute_result"
    }
   ],
   "source": [
    "all_df.shape"
   ]
  },
  {
   "cell_type": "code",
   "execution_count": 165,
   "id": "c8b550bc",
   "metadata": {},
   "outputs": [
    {
     "data": {
      "image/png": "[encoded data removed]",
      "text/plain": [
       "<Figure size 1080x864 with 2 Axes>"
      ]
     },
     "metadata": {
      "needs_background": "light"
     },
     "output_type": "display_data"
    }
   ],
   "source": [
    "plt.figure(figsize=(15,12))\n",
    "cr=all_df.corr()\n",
    "cr=cr[abs(cr)>.7]\n",
    "sns.heatmap(cr, cmap=\"coolwarm\", annot=True)\n",
    "plt.show()"
   ]
  },
  {
   "cell_type": "code",
   "execution_count": null,
   "id": "43d0abc7",
   "metadata": {},
   "outputs": [],
   "source": []
  },
  {
   "cell_type": "code",
   "execution_count": 175,
   "id": "d22f2268",
   "metadata": {},
   "outputs": [],
   "source": [
    "y=all_df[\"total_amount\"]\n",
    "x=all_df.drop(columns=[\"total_amount\", \"fare_amount\"])"
   ]
  },
  {
   "cell_type": "code",
   "execution_count": 176,
   "id": "1b418c27",
   "metadata": {},
   "outputs": [],
   "source": [
    "from sklearn.model_selection import train_test_split, GridSearchCV, RandomizedSearchCV\n",
    "from sklearn.ensemble import BaggingRegressor, RandomForestRegressor\n"
   ]
  },
  {
   "cell_type": "code",
   "execution_count": 177,
   "id": "83614e24",
   "metadata": {},
   "outputs": [],
   "source": [
    "x_train,x_test, y_train,y_test=train_test_split(x,y, test_size=.3, random_state=0)"
   ]
  },
  {
   "cell_type": "code",
   "execution_count": 178,
   "id": "10c9a1d1",
   "metadata": {},
   "outputs": [
    {
     "data": {
      "text/html": [
       "<style>#sk-container-id-2 {color: black;background-color: white;}#sk-container-id-2 pre{padding: 0;}#sk-container-id-2 div.sk-toggleable {background-color: white;}#sk-container-id-2 label.sk-toggleable__label {cursor: pointer;display: block;width: 100%;margin-bottom: 0;padding: 0.3em;box-sizing: border-box;text-align: center;}#sk-container-id-2 label.sk-toggleable__label-arrow:before {content: \"▸\";float: left;margin-right: 0.25em;color: #696969;}#sk-container-id-2 label.sk-toggleable__label-arrow:hover:before {color: black;}#sk-container-id-2 div.sk-estimator:hover label.sk-toggleable__label-arrow:before {color: black;}#sk-container-id-2 div.sk-toggleable__content {max-height: 0;max-width: 0;overflow: hidden;text-align: left;background-color: #f0f8ff;}#sk-container-id-2 div.sk-toggleable__content pre {margin: 0.2em;color: black;border-radius: 0.25em;background-color: #f0f8ff;}#sk-container-id-2 input.sk-toggleable__control:checked~div.sk-toggleable__content {max-height: 200px;max-width: 100%;overflow: auto;}#sk-container-id-2 input.sk-toggleable__control:checked~label.sk-toggleable__label-arrow:before {content: \"▾\";}#sk-container-id-2 div.sk-estimator input.sk-toggleable__control:checked~label.sk-toggleable__label {background-color: #d4ebff;}#sk-container-id-2 div.sk-label input.sk-toggleable__control:checked~label.sk-toggleable__label {background-color: #d4ebff;}#sk-container-id-2 input.sk-hidden--visually {border: 0;clip: rect(1px 1px 1px 1px);clip: rect(1px, 1px, 1px, 1px);height: 1px;margin: -1px;overflow: hidden;padding: 0;position: absolute;width: 1px;}#sk-container-id-2 div.sk-estimator {font-family: monospace;background-color: #f0f8ff;border: 1px dotted black;border-radius: 0.25em;box-sizing: border-box;margin-bottom: 0.5em;}#sk-container-id-2 div.sk-estimator:hover {background-color: #d4ebff;}#sk-container-id-2 div.sk-parallel-item::after {content: \"\";width: 100%;border-bottom: 1px solid gray;flex-grow: 1;}#sk-container-id-2 div.sk-label:hover label.sk-toggleable__label {background-color: #d4ebff;}#sk-container-id-2 div.sk-serial::before {content: \"\";position: absolute;border-left: 1px solid gray;box-sizing: border-box;top: 0;bottom: 0;left: 50%;z-index: 0;}#sk-container-id-2 div.sk-serial {display: flex;flex-direction: column;align-items: center;background-color: white;padding-right: 0.2em;padding-left: 0.2em;position: relative;}#sk-container-id-2 div.sk-item {position: relative;z-index: 1;}#sk-container-id-2 div.sk-parallel {display: flex;align-items: stretch;justify-content: center;background-color: white;position: relative;}#sk-container-id-2 div.sk-item::before, #sk-container-id-2 div.sk-parallel-item::before {content: \"\";position: absolute;border-left: 1px solid gray;box-sizing: border-box;top: 0;bottom: 0;left: 50%;z-index: -1;}#sk-container-id-2 div.sk-parallel-item {display: flex;flex-direction: column;z-index: 1;position: relative;background-color: white;}#sk-container-id-2 div.sk-parallel-item:first-child::after {align-self: flex-end;width: 50%;}#sk-container-id-2 div.sk-parallel-item:last-child::after {align-self: flex-start;width: 50%;}#sk-container-id-2 div.sk-parallel-item:only-child::after {width: 0;}#sk-container-id-2 div.sk-dashed-wrapped {border: 1px dashed gray;margin: 0 0.4em 0.5em 0.4em;box-sizing: border-box;padding-bottom: 0.4em;background-color: white;}#sk-container-id-2 div.sk-label label {font-family: monospace;font-weight: bold;display: inline-block;line-height: 1.2em;}#sk-container-id-2 div.sk-label-container {text-align: center;}#sk-container-id-2 div.sk-container {/* jupyter's `normalize.less` sets `[hidden] { display: none; }` but bootstrap.min.css set `[hidden] { display: none !important; }` so we also need the `!important` here to be able to override the default hidden behavior on the sphinx rendered scikit-learn.org. See: https://github.com/scikit-learn/scikit-learn/issues/21755 */display: inline-block !important;position: relative;}#sk-container-id-2 div.sk-text-repr-fallback {display: none;}</style><div id=\"sk-container-id-2\" class=\"sk-top-container\"><div class=\"sk-text-repr-fallback\"><pre>RandomForestRegressor()</pre><b>In a Jupyter environment, please rerun this cell to show the HTML representation or trust the notebook. <br />On GitHub, the HTML representation is unable to render, please try loading this page with nbviewer.org.</b></div><div class=\"sk-container\" hidden><div class=\"sk-item\"><div class=\"sk-estimator sk-toggleable\"><input class=\"sk-toggleable__control sk-hidden--visually\" id=\"sk-estimator-id-2\" type=\"checkbox\" checked><label for=\"sk-estimator-id-2\" class=\"sk-toggleable__label sk-toggleable__label-arrow\">RandomForestRegressor</label><div class=\"sk-toggleable__content\"><pre>RandomForestRegressor()</pre></div></div></div></div></div>"
      ],
      "text/plain": [
       "RandomForestRegressor()"
      ]
     },
     "execution_count": 178,
     "metadata": {},
     "output_type": "execute_result"
    }
   ],
   "source": [
    "rf=RandomForestRegressor()\n",
    "rf.fit(x_train, y_train)"
   ]
  },
  {
   "cell_type": "code",
   "execution_count": 179,
   "id": "24f22fb5",
   "metadata": {},
   "outputs": [
    {
     "name": "stdout",
     "output_type": "stream",
     "text": [
      "train_score 0.9968463994129324\n",
      "test_score 0.9770224755336036\n"
     ]
    }
   ],
   "source": [
    "print(\"train_score\", rf.score(x_train, y_train))\n",
    "print(\"test_score\", rf.score(x_test, y_test))"
   ]
  },
  {
   "cell_type": "code",
   "execution_count": 180,
   "id": "f1c9ddf2",
   "metadata": {},
   "outputs": [
    {
     "data": {
      "text/html": [
       "<div>\n",
       "<style scoped>\n",
       "    .dataframe tbody tr th:only-of-type {\n",
       "        vertical-align: middle;\n",
       "    }\n",
       "\n",
       "    .dataframe tbody tr th {\n",
       "        vertical-align: top;\n",
       "    }\n",
       "\n",
       "    .dataframe thead th {\n",
       "        text-align: right;\n",
       "    }\n",
       "</style>\n",
       "<table border=\"1\" class=\"dataframe\">\n",
       "  <thead>\n",
       "    <tr style=\"text-align: right;\">\n",
       "      <th></th>\n",
       "      <th>Var</th>\n",
       "      <th>imp</th>\n",
       "    </tr>\n",
       "  </thead>\n",
       "  <tbody>\n",
       "    <tr>\n",
       "      <th>1</th>\n",
       "      <td>trip_distance</td>\n",
       "      <td>0.73763</td>\n",
       "    </tr>\n",
       "    <tr>\n",
       "      <th>4</th>\n",
       "      <td>tip_amount</td>\n",
       "      <td>0.12039</td>\n",
       "    </tr>\n",
       "    <tr>\n",
       "      <th>21</th>\n",
       "      <td>duration</td>\n",
       "      <td>0.06285</td>\n",
       "    </tr>\n",
       "    <tr>\n",
       "      <th>27</th>\n",
       "      <td>RatecodeID_Standard_rate</td>\n",
       "      <td>0.05141</td>\n",
       "    </tr>\n",
       "    <tr>\n",
       "      <th>5</th>\n",
       "      <td>tolls_amount</td>\n",
       "      <td>0.00818</td>\n",
       "    </tr>\n",
       "    <tr>\n",
       "      <th>3</th>\n",
       "      <td>mta_tax</td>\n",
       "      <td>0.00260</td>\n",
       "    </tr>\n",
       "    <tr>\n",
       "      <th>13</th>\n",
       "      <td>minute</td>\n",
       "      <td>0.00153</td>\n",
       "    </tr>\n",
       "    <tr>\n",
       "      <th>19</th>\n",
       "      <td>minute_drop</td>\n",
       "      <td>0.00142</td>\n",
       "    </tr>\n",
       "    <tr>\n",
       "      <th>6</th>\n",
       "      <td>congestion_surcharge</td>\n",
       "      <td>0.00119</td>\n",
       "    </tr>\n",
       "    <tr>\n",
       "      <th>12</th>\n",
       "      <td>hour</td>\n",
       "      <td>0.00114</td>\n",
       "    </tr>\n",
       "    <tr>\n",
       "      <th>14</th>\n",
       "      <td>day_month</td>\n",
       "      <td>0.00113</td>\n",
       "    </tr>\n",
       "    <tr>\n",
       "      <th>18</th>\n",
       "      <td>hour_drop</td>\n",
       "      <td>0.00110</td>\n",
       "    </tr>\n",
       "    <tr>\n",
       "      <th>20</th>\n",
       "      <td>day_month_drop</td>\n",
       "      <td>0.00096</td>\n",
       "    </tr>\n",
       "    <tr>\n",
       "      <th>2</th>\n",
       "      <td>extra</td>\n",
       "      <td>0.00088</td>\n",
       "    </tr>\n",
       "    <tr>\n",
       "      <th>25</th>\n",
       "      <td>RatecodeID_Negotiated_fare</td>\n",
       "      <td>0.00083</td>\n",
       "    </tr>\n",
       "    <tr>\n",
       "      <th>7</th>\n",
       "      <td>airport_fee</td>\n",
       "      <td>0.00069</td>\n",
       "    </tr>\n",
       "    <tr>\n",
       "      <th>17</th>\n",
       "      <td>day_drop</td>\n",
       "      <td>0.00067</td>\n",
       "    </tr>\n",
       "    <tr>\n",
       "      <th>29</th>\n",
       "      <td>payment_type_cc</td>\n",
       "      <td>0.00065</td>\n",
       "    </tr>\n",
       "    <tr>\n",
       "      <th>11</th>\n",
       "      <td>day</td>\n",
       "      <td>0.00063</td>\n",
       "    </tr>\n",
       "    <tr>\n",
       "      <th>35</th>\n",
       "      <td>length_duration_short_trip</td>\n",
       "      <td>0.00040</td>\n",
       "    </tr>\n",
       "    <tr>\n",
       "      <th>24</th>\n",
       "      <td>RatecodeID_Nassau</td>\n",
       "      <td>0.00036</td>\n",
       "    </tr>\n",
       "    <tr>\n",
       "      <th>23</th>\n",
       "      <td>VendorID_Verifone</td>\n",
       "      <td>0.00034</td>\n",
       "    </tr>\n",
       "    <tr>\n",
       "      <th>0</th>\n",
       "      <td>passenger_count</td>\n",
       "      <td>0.00033</td>\n",
       "    </tr>\n",
       "    <tr>\n",
       "      <th>33</th>\n",
       "      <td>passenger_cat_two_passenger</td>\n",
       "      <td>0.00033</td>\n",
       "    </tr>\n",
       "    <tr>\n",
       "      <th>40</th>\n",
       "      <td>hour_trip_morning_office_trip</td>\n",
       "      <td>0.00030</td>\n",
       "    </tr>\n",
       "    <tr>\n",
       "      <th>8</th>\n",
       "      <td>is_pu_do_location_same</td>\n",
       "      <td>0.00028</td>\n",
       "    </tr>\n",
       "    <tr>\n",
       "      <th>39</th>\n",
       "      <td>hour_trip_evening_office_trip</td>\n",
       "      <td>0.00026</td>\n",
       "    </tr>\n",
       "    <tr>\n",
       "      <th>36</th>\n",
       "      <td>length_duration_very_long_time_trip</td>\n",
       "      <td>0.00020</td>\n",
       "    </tr>\n",
       "    <tr>\n",
       "      <th>37</th>\n",
       "      <td>hour_trip_afternoo_trip</td>\n",
       "      <td>0.00019</td>\n",
       "    </tr>\n",
       "    <tr>\n",
       "      <th>26</th>\n",
       "      <td>RatecodeID_Newark</td>\n",
       "      <td>0.00018</td>\n",
       "    </tr>\n",
       "    <tr>\n",
       "      <th>42</th>\n",
       "      <td>month_cat_mid_of_month</td>\n",
       "      <td>0.00016</td>\n",
       "    </tr>\n",
       "    <tr>\n",
       "      <th>41</th>\n",
       "      <td>hour_trip_night_trip</td>\n",
       "      <td>0.00015</td>\n",
       "    </tr>\n",
       "    <tr>\n",
       "      <th>32</th>\n",
       "      <td>passenger_cat_no_or_one_passenger</td>\n",
       "      <td>0.00012</td>\n",
       "    </tr>\n",
       "    <tr>\n",
       "      <th>28</th>\n",
       "      <td>store_and_fwd_flag_Y</td>\n",
       "      <td>0.00010</td>\n",
       "    </tr>\n",
       "    <tr>\n",
       "      <th>43</th>\n",
       "      <td>month_cat_start_of_month</td>\n",
       "      <td>0.00009</td>\n",
       "    </tr>\n",
       "    <tr>\n",
       "      <th>22</th>\n",
       "      <td>is_weekend</td>\n",
       "      <td>0.00008</td>\n",
       "    </tr>\n",
       "    <tr>\n",
       "      <th>31</th>\n",
       "      <td>payment_type_no_charge</td>\n",
       "      <td>0.00008</td>\n",
       "    </tr>\n",
       "    <tr>\n",
       "      <th>30</th>\n",
       "      <td>payment_type_dispute</td>\n",
       "      <td>0.00007</td>\n",
       "    </tr>\n",
       "    <tr>\n",
       "      <th>38</th>\n",
       "      <td>hour_trip_early_morning_trip</td>\n",
       "      <td>0.00006</td>\n",
       "    </tr>\n",
       "    <tr>\n",
       "      <th>34</th>\n",
       "      <td>length_duration_medium_time_trip</td>\n",
       "      <td>0.00004</td>\n",
       "    </tr>\n",
       "    <tr>\n",
       "      <th>16</th>\n",
       "      <td>month_drop</td>\n",
       "      <td>0.00000</td>\n",
       "    </tr>\n",
       "    <tr>\n",
       "      <th>15</th>\n",
       "      <td>year_drop</td>\n",
       "      <td>0.00000</td>\n",
       "    </tr>\n",
       "    <tr>\n",
       "      <th>10</th>\n",
       "      <td>month</td>\n",
       "      <td>0.00000</td>\n",
       "    </tr>\n",
       "    <tr>\n",
       "      <th>9</th>\n",
       "      <td>year</td>\n",
       "      <td>0.00000</td>\n",
       "    </tr>\n",
       "  </tbody>\n",
       "</table>\n",
       "</div>"
      ],
      "text/plain": [
       "                                    Var     imp\n",
       "1                         trip_distance 0.73763\n",
       "4                            tip_amount 0.12039\n",
       "21                             duration 0.06285\n",
       "27             RatecodeID_Standard_rate 0.05141\n",
       "5                          tolls_amount 0.00818\n",
       "3                               mta_tax 0.00260\n",
       "13                               minute 0.00153\n",
       "19                          minute_drop 0.00142\n",
       "6                  congestion_surcharge 0.00119\n",
       "12                                 hour 0.00114\n",
       "14                            day_month 0.00113\n",
       "18                            hour_drop 0.00110\n",
       "20                       day_month_drop 0.00096\n",
       "2                                 extra 0.00088\n",
       "25           RatecodeID_Negotiated_fare 0.00083\n",
       "7                           airport_fee 0.00069\n",
       "17                             day_drop 0.00067\n",
       "29                      payment_type_cc 0.00065\n",
       "11                                  day 0.00063\n",
       "35           length_duration_short_trip 0.00040\n",
       "24                    RatecodeID_Nassau 0.00036\n",
       "23                    VendorID_Verifone 0.00034\n",
       "0                       passenger_count 0.00033\n",
       "33          passenger_cat_two_passenger 0.00033\n",
       "40        hour_trip_morning_office_trip 0.00030\n",
       "8                is_pu_do_location_same 0.00028\n",
       "39        hour_trip_evening_office_trip 0.00026\n",
       "36  length_duration_very_long_time_trip 0.00020\n",
       "37              hour_trip_afternoo_trip 0.00019\n",
       "26                    RatecodeID_Newark 0.00018\n",
       "42               month_cat_mid_of_month 0.00016\n",
       "41                 hour_trip_night_trip 0.00015\n",
       "32    passenger_cat_no_or_one_passenger 0.00012\n",
       "28                 store_and_fwd_flag_Y 0.00010\n",
       "43             month_cat_start_of_month 0.00009\n",
       "22                           is_weekend 0.00008\n",
       "31               payment_type_no_charge 0.00008\n",
       "30                 payment_type_dispute 0.00007\n",
       "38         hour_trip_early_morning_trip 0.00006\n",
       "34     length_duration_medium_time_trip 0.00004\n",
       "16                           month_drop 0.00000\n",
       "15                            year_drop 0.00000\n",
       "10                                month 0.00000\n",
       "9                                  year 0.00000"
      ]
     },
     "execution_count": 180,
     "metadata": {},
     "output_type": "execute_result"
    }
   ],
   "source": [
    "pd.DataFrame({\"Var\": x_train.columns, \"imp\":rf.feature_importances_}).sort_values(by=\"imp\", ascending=False)"
   ]
  },
  {
   "cell_type": "code",
   "execution_count": null,
   "id": "7d4f7e61",
   "metadata": {},
   "outputs": [],
   "source": []
  }
 ],
 "metadata": {
  "kernelspec": {
   "display_name": "Python 3 (ipykernel)",
   "language": "python",
   "name": "python3"
  },
  "language_info": {
   "codemirror_mode": {
    "name": "ipython",
    "version": 3
   },
   "file_extension": ".py",
   "mimetype": "text/x-python",
   "name": "python",
   "nbconvert_exporter": "python",
   "pygments_lexer": "ipython3",
   "version": "3.8.5"
  }
 },
 "nbformat": 4,
 "nbformat_minor": 5
}
